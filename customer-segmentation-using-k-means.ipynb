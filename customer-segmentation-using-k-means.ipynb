{
 "cells": [
  {
   "cell_type": "markdown",
   "id": "801ad1aa",
   "metadata": {
    "papermill": {
     "duration": 0.020667,
     "end_time": "2023-06-08T17:01:58.651689",
     "exception": false,
     "start_time": "2023-06-08T17:01:58.631022",
     "status": "completed"
    },
    "tags": []
   },
   "source": [
    "## Customer Segmentation using various ML Algorithms"
   ]
  },
  {
   "cell_type": "markdown",
   "id": "31292f5d",
   "metadata": {
    "papermill": {
     "duration": 0.020006,
     "end_time": "2023-06-08T17:01:58.692038",
     "exception": false,
     "start_time": "2023-06-08T17:01:58.672032",
     "status": "completed"
    },
    "tags": []
   },
   "source": [
    "Importing Libraries"
   ]
  },
  {
   "cell_type": "code",
   "execution_count": 1,
   "id": "4fe305be",
   "metadata": {
    "_cell_guid": "b1076dfc-b9ad-4769-8c92-a6c4dae69d19",
    "_uuid": "8f2839f25d086af736a60e9eeb907d3b93b6e0e5",
    "execution": {
     "iopub.execute_input": "2023-06-08T17:01:58.734192Z",
     "iopub.status.busy": "2023-06-08T17:01:58.733525Z",
     "iopub.status.idle": "2023-06-08T17:02:00.149507Z",
     "shell.execute_reply": "2023-06-08T17:02:00.148381Z"
    },
    "papermill": {
     "duration": 1.440396,
     "end_time": "2023-06-08T17:02:00.152498",
     "exception": false,
     "start_time": "2023-06-08T17:01:58.712102",
     "status": "completed"
    },
    "tags": []
   },
   "outputs": [],
   "source": [
    "import numpy as np\n",
    "import pandas as pd\n",
    "import seaborn as sns\n",
    "from matplotlib import pyplot as plt\n",
    "from matplotlib.pyplot import style as st"
   ]
  },
  {
   "cell_type": "markdown",
   "id": "49b79dcd",
   "metadata": {
    "papermill": {
     "duration": 0.020167,
     "end_time": "2023-06-08T17:02:00.192847",
     "exception": false,
     "start_time": "2023-06-08T17:02:00.172680",
     "status": "completed"
    },
    "tags": []
   },
   "source": [
    "Importing Dataset"
   ]
  },
  {
   "cell_type": "code",
   "execution_count": 2,
   "id": "05375ba9",
   "metadata": {
    "execution": {
     "iopub.execute_input": "2023-06-08T17:02:00.234925Z",
     "iopub.status.busy": "2023-06-08T17:02:00.234526Z",
     "iopub.status.idle": "2023-06-08T17:02:00.255762Z",
     "shell.execute_reply": "2023-06-08T17:02:00.254545Z"
    },
    "papermill": {
     "duration": 0.045437,
     "end_time": "2023-06-08T17:02:00.258420",
     "exception": false,
     "start_time": "2023-06-08T17:02:00.212983",
     "status": "completed"
    },
    "tags": []
   },
   "outputs": [],
   "source": [
    "customers = pd.read_csv('Mall_Customers.csv')"
   ]
  },
  {
   "cell_type": "markdown",
   "id": "69368371",
   "metadata": {
    "papermill": {
     "duration": 0.01981,
     "end_time": "2023-06-08T17:02:00.299076",
     "exception": false,
     "start_time": "2023-06-08T17:02:00.279266",
     "status": "completed"
    },
    "tags": []
   },
   "source": [
    "Data Preprocessing"
   ]
  },
  {
   "cell_type": "code",
   "execution_count": 3,
   "id": "774f2ba4",
   "metadata": {
    "execution": {
     "iopub.execute_input": "2023-06-08T17:02:00.341477Z",
     "iopub.status.busy": "2023-06-08T17:02:00.340997Z",
     "iopub.status.idle": "2023-06-08T17:02:00.369456Z",
     "shell.execute_reply": "2023-06-08T17:02:00.368667Z"
    },
    "papermill": {
     "duration": 0.052431,
     "end_time": "2023-06-08T17:02:00.371715",
     "exception": false,
     "start_time": "2023-06-08T17:02:00.319284",
     "status": "completed"
    },
    "tags": []
   },
   "outputs": [
    {
     "data": {
      "text/html": [
       "<div>\n",
       "<style scoped>\n",
       "    .dataframe tbody tr th:only-of-type {\n",
       "        vertical-align: middle;\n",
       "    }\n",
       "\n",
       "    .dataframe tbody tr th {\n",
       "        vertical-align: top;\n",
       "    }\n",
       "\n",
       "    .dataframe thead th {\n",
       "        text-align: right;\n",
       "    }\n",
       "</style>\n",
       "<table border=\"1\" class=\"dataframe\">\n",
       "  <thead>\n",
       "    <tr style=\"text-align: right;\">\n",
       "      <th></th>\n",
       "      <th>CustomerID</th>\n",
       "      <th>Gender</th>\n",
       "      <th>Age</th>\n",
       "      <th>Annual Income (k$)</th>\n",
       "      <th>Spending Score (1-100)</th>\n",
       "    </tr>\n",
       "  </thead>\n",
       "  <tbody>\n",
       "    <tr>\n",
       "      <th>0</th>\n",
       "      <td>1</td>\n",
       "      <td>Male</td>\n",
       "      <td>19</td>\n",
       "      <td>15</td>\n",
       "      <td>39</td>\n",
       "    </tr>\n",
       "    <tr>\n",
       "      <th>1</th>\n",
       "      <td>2</td>\n",
       "      <td>Male</td>\n",
       "      <td>21</td>\n",
       "      <td>15</td>\n",
       "      <td>81</td>\n",
       "    </tr>\n",
       "    <tr>\n",
       "      <th>2</th>\n",
       "      <td>3</td>\n",
       "      <td>Female</td>\n",
       "      <td>20</td>\n",
       "      <td>16</td>\n",
       "      <td>6</td>\n",
       "    </tr>\n",
       "    <tr>\n",
       "      <th>3</th>\n",
       "      <td>4</td>\n",
       "      <td>Female</td>\n",
       "      <td>23</td>\n",
       "      <td>16</td>\n",
       "      <td>77</td>\n",
       "    </tr>\n",
       "    <tr>\n",
       "      <th>4</th>\n",
       "      <td>5</td>\n",
       "      <td>Female</td>\n",
       "      <td>31</td>\n",
       "      <td>17</td>\n",
       "      <td>40</td>\n",
       "    </tr>\n",
       "  </tbody>\n",
       "</table>\n",
       "</div>"
      ],
      "text/plain": [
       "   CustomerID  Gender  Age  Annual Income (k$)  Spending Score (1-100)\n",
       "0           1    Male   19                  15                      39\n",
       "1           2    Male   21                  15                      81\n",
       "2           3  Female   20                  16                       6\n",
       "3           4  Female   23                  16                      77\n",
       "4           5  Female   31                  17                      40"
      ]
     },
     "execution_count": 3,
     "metadata": {},
     "output_type": "execute_result"
    }
   ],
   "source": [
    "customers.head()"
   ]
  },
  {
   "cell_type": "code",
   "execution_count": 4,
   "id": "18abb502",
   "metadata": {
    "execution": {
     "iopub.execute_input": "2023-06-08T17:02:00.415922Z",
     "iopub.status.busy": "2023-06-08T17:02:00.414629Z",
     "iopub.status.idle": "2023-06-08T17:02:00.421913Z",
     "shell.execute_reply": "2023-06-08T17:02:00.420871Z"
    },
    "papermill": {
     "duration": 0.031887,
     "end_time": "2023-06-08T17:02:00.424484",
     "exception": false,
     "start_time": "2023-06-08T17:02:00.392597",
     "status": "completed"
    },
    "tags": []
   },
   "outputs": [
    {
     "data": {
      "text/plain": [
       "(200, 5)"
      ]
     },
     "execution_count": 4,
     "metadata": {},
     "output_type": "execute_result"
    }
   ],
   "source": [
    "customers.shape"
   ]
  },
  {
   "cell_type": "code",
   "execution_count": 5,
   "id": "37dd8939",
   "metadata": {
    "execution": {
     "iopub.execute_input": "2023-06-08T17:02:00.468603Z",
     "iopub.status.busy": "2023-06-08T17:02:00.467794Z",
     "iopub.status.idle": "2023-06-08T17:02:00.476073Z",
     "shell.execute_reply": "2023-06-08T17:02:00.475069Z"
    },
    "papermill": {
     "duration": 0.033255,
     "end_time": "2023-06-08T17:02:00.478525",
     "exception": false,
     "start_time": "2023-06-08T17:02:00.445270",
     "status": "completed"
    },
    "tags": []
   },
   "outputs": [
    {
     "data": {
      "text/plain": [
       "CustomerID                 int64\n",
       "Gender                    object\n",
       "Age                        int64\n",
       "Annual Income (k$)         int64\n",
       "Spending Score (1-100)     int64\n",
       "dtype: object"
      ]
     },
     "execution_count": 5,
     "metadata": {},
     "output_type": "execute_result"
    }
   ],
   "source": [
    "customers.dtypes"
   ]
  },
  {
   "cell_type": "code",
   "execution_count": 6,
   "id": "647c4f15",
   "metadata": {
    "execution": {
     "iopub.execute_input": "2023-06-08T17:02:00.521576Z",
     "iopub.status.busy": "2023-06-08T17:02:00.521143Z",
     "iopub.status.idle": "2023-06-08T17:02:00.547394Z",
     "shell.execute_reply": "2023-06-08T17:02:00.546083Z"
    },
    "papermill": {
     "duration": 0.051425,
     "end_time": "2023-06-08T17:02:00.550564",
     "exception": false,
     "start_time": "2023-06-08T17:02:00.499139",
     "status": "completed"
    },
    "tags": []
   },
   "outputs": [
    {
     "name": "stdout",
     "output_type": "stream",
     "text": [
      "<class 'pandas.core.frame.DataFrame'>\n",
      "RangeIndex: 200 entries, 0 to 199\n",
      "Data columns (total 5 columns):\n",
      " #   Column                  Non-Null Count  Dtype \n",
      "---  ------                  --------------  ----- \n",
      " 0   CustomerID              200 non-null    int64 \n",
      " 1   Gender                  200 non-null    object\n",
      " 2   Age                     200 non-null    int64 \n",
      " 3   Annual Income (k$)      200 non-null    int64 \n",
      " 4   Spending Score (1-100)  200 non-null    int64 \n",
      "dtypes: int64(4), object(1)\n",
      "memory usage: 7.9+ KB\n"
     ]
    }
   ],
   "source": [
    "customers.info()"
   ]
  },
  {
   "cell_type": "code",
   "execution_count": 7,
   "id": "9034b48f",
   "metadata": {
    "execution": {
     "iopub.execute_input": "2023-06-08T17:02:00.595550Z",
     "iopub.status.busy": "2023-06-08T17:02:00.594854Z",
     "iopub.status.idle": "2023-06-08T17:02:00.620570Z",
     "shell.execute_reply": "2023-06-08T17:02:00.619335Z"
    },
    "papermill": {
     "duration": 0.050788,
     "end_time": "2023-06-08T17:02:00.623023",
     "exception": false,
     "start_time": "2023-06-08T17:02:00.572235",
     "status": "completed"
    },
    "tags": []
   },
   "outputs": [
    {
     "data": {
      "text/html": [
       "<div>\n",
       "<style scoped>\n",
       "    .dataframe tbody tr th:only-of-type {\n",
       "        vertical-align: middle;\n",
       "    }\n",
       "\n",
       "    .dataframe tbody tr th {\n",
       "        vertical-align: top;\n",
       "    }\n",
       "\n",
       "    .dataframe thead th {\n",
       "        text-align: right;\n",
       "    }\n",
       "</style>\n",
       "<table border=\"1\" class=\"dataframe\">\n",
       "  <thead>\n",
       "    <tr style=\"text-align: right;\">\n",
       "      <th></th>\n",
       "      <th>CustomerID</th>\n",
       "      <th>Age</th>\n",
       "      <th>Annual Income (k$)</th>\n",
       "      <th>Spending Score (1-100)</th>\n",
       "    </tr>\n",
       "  </thead>\n",
       "  <tbody>\n",
       "    <tr>\n",
       "      <th>count</th>\n",
       "      <td>200.000000</td>\n",
       "      <td>200.000000</td>\n",
       "      <td>200.000000</td>\n",
       "      <td>200.000000</td>\n",
       "    </tr>\n",
       "    <tr>\n",
       "      <th>mean</th>\n",
       "      <td>100.500000</td>\n",
       "      <td>38.850000</td>\n",
       "      <td>60.560000</td>\n",
       "      <td>50.200000</td>\n",
       "    </tr>\n",
       "    <tr>\n",
       "      <th>std</th>\n",
       "      <td>57.879185</td>\n",
       "      <td>13.969007</td>\n",
       "      <td>26.264721</td>\n",
       "      <td>25.823522</td>\n",
       "    </tr>\n",
       "    <tr>\n",
       "      <th>min</th>\n",
       "      <td>1.000000</td>\n",
       "      <td>18.000000</td>\n",
       "      <td>15.000000</td>\n",
       "      <td>1.000000</td>\n",
       "    </tr>\n",
       "    <tr>\n",
       "      <th>25%</th>\n",
       "      <td>50.750000</td>\n",
       "      <td>28.750000</td>\n",
       "      <td>41.500000</td>\n",
       "      <td>34.750000</td>\n",
       "    </tr>\n",
       "    <tr>\n",
       "      <th>50%</th>\n",
       "      <td>100.500000</td>\n",
       "      <td>36.000000</td>\n",
       "      <td>61.500000</td>\n",
       "      <td>50.000000</td>\n",
       "    </tr>\n",
       "    <tr>\n",
       "      <th>75%</th>\n",
       "      <td>150.250000</td>\n",
       "      <td>49.000000</td>\n",
       "      <td>78.000000</td>\n",
       "      <td>73.000000</td>\n",
       "    </tr>\n",
       "    <tr>\n",
       "      <th>max</th>\n",
       "      <td>200.000000</td>\n",
       "      <td>70.000000</td>\n",
       "      <td>137.000000</td>\n",
       "      <td>99.000000</td>\n",
       "    </tr>\n",
       "  </tbody>\n",
       "</table>\n",
       "</div>"
      ],
      "text/plain": [
       "       CustomerID         Age  Annual Income (k$)  Spending Score (1-100)\n",
       "count  200.000000  200.000000          200.000000              200.000000\n",
       "mean   100.500000   38.850000           60.560000               50.200000\n",
       "std     57.879185   13.969007           26.264721               25.823522\n",
       "min      1.000000   18.000000           15.000000                1.000000\n",
       "25%     50.750000   28.750000           41.500000               34.750000\n",
       "50%    100.500000   36.000000           61.500000               50.000000\n",
       "75%    150.250000   49.000000           78.000000               73.000000\n",
       "max    200.000000   70.000000          137.000000               99.000000"
      ]
     },
     "execution_count": 7,
     "metadata": {},
     "output_type": "execute_result"
    }
   ],
   "source": [
    "customers.describe()"
   ]
  },
  {
   "cell_type": "markdown",
   "id": "a8ba2102",
   "metadata": {
    "papermill": {
     "duration": 0.020919,
     "end_time": "2023-06-08T17:02:00.665109",
     "exception": false,
     "start_time": "2023-06-08T17:02:00.644190",
     "status": "completed"
    },
    "tags": []
   },
   "source": [
    "## Exploratory Data Analysis"
   ]
  },
  {
   "cell_type": "code",
   "execution_count": 8,
   "id": "7a3b2a32",
   "metadata": {
    "execution": {
     "iopub.execute_input": "2023-06-08T17:02:00.709250Z",
     "iopub.status.busy": "2023-06-08T17:02:00.708814Z",
     "iopub.status.idle": "2023-06-08T17:02:00.719464Z",
     "shell.execute_reply": "2023-06-08T17:02:00.718099Z"
    },
    "papermill": {
     "duration": 0.035584,
     "end_time": "2023-06-08T17:02:00.721895",
     "exception": false,
     "start_time": "2023-06-08T17:02:00.686311",
     "status": "completed"
    },
    "tags": []
   },
   "outputs": [],
   "source": [
    "correlation = customers.corr()"
   ]
  },
  {
   "cell_type": "code",
   "execution_count": 9,
   "id": "5a3aa7ea",
   "metadata": {
    "execution": {
     "iopub.execute_input": "2023-06-08T17:02:00.766705Z",
     "iopub.status.busy": "2023-06-08T17:02:00.765935Z",
     "iopub.status.idle": "2023-06-08T17:02:00.772816Z",
     "shell.execute_reply": "2023-06-08T17:02:00.771596Z"
    },
    "papermill": {
     "duration": 0.031476,
     "end_time": "2023-06-08T17:02:00.775115",
     "exception": false,
     "start_time": "2023-06-08T17:02:00.743639",
     "status": "completed"
    },
    "tags": []
   },
   "outputs": [],
   "source": [
    "customers.drop([\"CustomerID\"],axis=1,inplace=True)"
   ]
  },
  {
   "cell_type": "code",
   "execution_count": 10,
   "id": "f16afe0c",
   "metadata": {
    "execution": {
     "iopub.execute_input": "2023-06-08T17:02:00.819503Z",
     "iopub.status.busy": "2023-06-08T17:02:00.819036Z",
     "iopub.status.idle": "2023-06-08T17:02:00.832995Z",
     "shell.execute_reply": "2023-06-08T17:02:00.831898Z"
    },
    "papermill": {
     "duration": 0.039258,
     "end_time": "2023-06-08T17:02:00.835412",
     "exception": false,
     "start_time": "2023-06-08T17:02:00.796154",
     "status": "completed"
    },
    "tags": []
   },
   "outputs": [
    {
     "data": {
      "text/html": [
       "<div>\n",
       "<style scoped>\n",
       "    .dataframe tbody tr th:only-of-type {\n",
       "        vertical-align: middle;\n",
       "    }\n",
       "\n",
       "    .dataframe tbody tr th {\n",
       "        vertical-align: top;\n",
       "    }\n",
       "\n",
       "    .dataframe thead th {\n",
       "        text-align: right;\n",
       "    }\n",
       "</style>\n",
       "<table border=\"1\" class=\"dataframe\">\n",
       "  <thead>\n",
       "    <tr style=\"text-align: right;\">\n",
       "      <th></th>\n",
       "      <th>Gender</th>\n",
       "      <th>Age</th>\n",
       "      <th>Annual Income (k$)</th>\n",
       "      <th>Spending Score (1-100)</th>\n",
       "    </tr>\n",
       "  </thead>\n",
       "  <tbody>\n",
       "    <tr>\n",
       "      <th>0</th>\n",
       "      <td>Male</td>\n",
       "      <td>19</td>\n",
       "      <td>15</td>\n",
       "      <td>39</td>\n",
       "    </tr>\n",
       "    <tr>\n",
       "      <th>1</th>\n",
       "      <td>Male</td>\n",
       "      <td>21</td>\n",
       "      <td>15</td>\n",
       "      <td>81</td>\n",
       "    </tr>\n",
       "    <tr>\n",
       "      <th>2</th>\n",
       "      <td>Female</td>\n",
       "      <td>20</td>\n",
       "      <td>16</td>\n",
       "      <td>6</td>\n",
       "    </tr>\n",
       "    <tr>\n",
       "      <th>3</th>\n",
       "      <td>Female</td>\n",
       "      <td>23</td>\n",
       "      <td>16</td>\n",
       "      <td>77</td>\n",
       "    </tr>\n",
       "    <tr>\n",
       "      <th>4</th>\n",
       "      <td>Female</td>\n",
       "      <td>31</td>\n",
       "      <td>17</td>\n",
       "      <td>40</td>\n",
       "    </tr>\n",
       "    <tr>\n",
       "      <th>...</th>\n",
       "      <td>...</td>\n",
       "      <td>...</td>\n",
       "      <td>...</td>\n",
       "      <td>...</td>\n",
       "    </tr>\n",
       "    <tr>\n",
       "      <th>195</th>\n",
       "      <td>Female</td>\n",
       "      <td>35</td>\n",
       "      <td>120</td>\n",
       "      <td>79</td>\n",
       "    </tr>\n",
       "    <tr>\n",
       "      <th>196</th>\n",
       "      <td>Female</td>\n",
       "      <td>45</td>\n",
       "      <td>126</td>\n",
       "      <td>28</td>\n",
       "    </tr>\n",
       "    <tr>\n",
       "      <th>197</th>\n",
       "      <td>Male</td>\n",
       "      <td>32</td>\n",
       "      <td>126</td>\n",
       "      <td>74</td>\n",
       "    </tr>\n",
       "    <tr>\n",
       "      <th>198</th>\n",
       "      <td>Male</td>\n",
       "      <td>32</td>\n",
       "      <td>137</td>\n",
       "      <td>18</td>\n",
       "    </tr>\n",
       "    <tr>\n",
       "      <th>199</th>\n",
       "      <td>Male</td>\n",
       "      <td>30</td>\n",
       "      <td>137</td>\n",
       "      <td>83</td>\n",
       "    </tr>\n",
       "  </tbody>\n",
       "</table>\n",
       "<p>200 rows × 4 columns</p>\n",
       "</div>"
      ],
      "text/plain": [
       "     Gender  Age  Annual Income (k$)  Spending Score (1-100)\n",
       "0      Male   19                  15                      39\n",
       "1      Male   21                  15                      81\n",
       "2    Female   20                  16                       6\n",
       "3    Female   23                  16                      77\n",
       "4    Female   31                  17                      40\n",
       "..      ...  ...                 ...                     ...\n",
       "195  Female   35                 120                      79\n",
       "196  Female   45                 126                      28\n",
       "197    Male   32                 126                      74\n",
       "198    Male   32                 137                      18\n",
       "199    Male   30                 137                      83\n",
       "\n",
       "[200 rows x 4 columns]"
      ]
     },
     "execution_count": 10,
     "metadata": {},
     "output_type": "execute_result"
    }
   ],
   "source": [
    "customers"
   ]
  },
  {
   "cell_type": "markdown",
   "id": "0257f433",
   "metadata": {
    "papermill": {
     "duration": 0.021333,
     "end_time": "2023-06-08T17:02:00.878565",
     "exception": false,
     "start_time": "2023-06-08T17:02:00.857232",
     "status": "completed"
    },
    "tags": []
   },
   "source": [
    "Heatmap of Correlation"
   ]
  },
  {
   "cell_type": "code",
   "execution_count": 11,
   "id": "50d71ad0",
   "metadata": {
    "execution": {
     "iopub.execute_input": "2023-06-08T17:02:00.923778Z",
     "iopub.status.busy": "2023-06-08T17:02:00.923407Z",
     "iopub.status.idle": "2023-06-08T17:02:01.362443Z",
     "shell.execute_reply": "2023-06-08T17:02:01.361282Z"
    },
    "papermill": {
     "duration": 0.464976,
     "end_time": "2023-06-08T17:02:01.365113",
     "exception": false,
     "start_time": "2023-06-08T17:02:00.900137",
     "status": "completed"
    },
    "tags": []
   },
   "outputs": [
    {
     "data": {
      "text/plain": [
       "<AxesSubplot:>"
      ]
     },
     "execution_count": 11,
     "metadata": {},
     "output_type": "execute_result"
    },
    {
     "data": {
      "image/png": "[encoded data removed]",
      "text/plain": [
       "<Figure size 432x288 with 2 Axes>"
      ]
     },
     "metadata": {
      "needs_background": "light"
     },
     "output_type": "display_data"
    }
   ],
   "source": [
    "sns.heatmap(correlation,annot=True)"
   ]
  },
  {
   "cell_type": "markdown",
   "id": "5fe93cbc",
   "metadata": {
    "papermill": {
     "duration": 0.02213,
     "end_time": "2023-06-08T17:02:01.409736",
     "exception": false,
     "start_time": "2023-06-08T17:02:01.387606",
     "status": "completed"
    },
    "tags": []
   },
   "source": [
    "Distplot of Spending Scores and Annual Income"
   ]
  },
  {
   "cell_type": "code",
   "execution_count": 12,
   "id": "5b985bab",
   "metadata": {
    "execution": {
     "iopub.execute_input": "2023-06-08T17:02:01.456898Z",
     "iopub.status.busy": "2023-06-08T17:02:01.456225Z",
     "iopub.status.idle": "2023-06-08T17:02:01.925612Z",
     "shell.execute_reply": "2023-06-08T17:02:01.924419Z"
    },
    "papermill": {
     "duration": 0.496019,
     "end_time": "2023-06-08T17:02:01.928057",
     "exception": false,
     "start_time": "2023-06-08T17:02:01.432038",
     "status": "completed"
    },
    "tags": []
   },
   "outputs": [
    {
     "data": {
      "text/plain": [
       "Text(0.5, 1.0, 'Distplot of Spending Score (1-100)')"
      ]
     },
     "execution_count": 12,
     "metadata": {},
     "output_type": "execute_result"
    },
    {
     "data": {
      "image/png": "[encoded data removed]",
      "text/plain": [
       "<Figure size 360x360 with 1 Axes>"
      ]
     },
     "metadata": {
      "needs_background": "light"
     },
     "output_type": "display_data"
    }
   ],
   "source": [
    "sns.displot(customers['Spending Score (1-100)'])\n",
    "plt.title('Distplot of Spending Score (1-100)')"
   ]
  },
  {
   "cell_type": "code",
   "execution_count": 13,
   "id": "74627be4",
   "metadata": {
    "execution": {
     "iopub.execute_input": "2023-06-08T17:02:01.975901Z",
     "iopub.status.busy": "2023-06-08T17:02:01.975511Z",
     "iopub.status.idle": "2023-06-08T17:02:02.391275Z",
     "shell.execute_reply": "2023-06-08T17:02:02.390112Z"
    },
    "papermill": {
     "duration": 0.442744,
     "end_time": "2023-06-08T17:02:02.393948",
     "exception": false,
     "start_time": "2023-06-08T17:02:01.951204",
     "status": "completed"
    },
    "tags": []
   },
   "outputs": [
    {
     "data": {
      "text/plain": [
       "Text(0.5, 1.0, 'Distplot of Income')"
      ]
     },
     "execution_count": 13,
     "metadata": {},
     "output_type": "execute_result"
    },
    {
     "data": {
      "image/png": "[encoded data removed]",
      "text/plain": [
       "<Figure size 360x360 with 1 Axes>"
      ]
     },
     "metadata": {
      "needs_background": "light"
     },
     "output_type": "display_data"
    }
   ],
   "source": [
    "sns.displot(customers['Annual Income (k$)'])\n",
    "plt.title('Distplot of Income')"
   ]
  },
  {
   "cell_type": "markdown",
   "id": "a229d67c",
   "metadata": {
    "papermill": {
     "duration": 0.023078,
     "end_time": "2023-06-08T17:02:02.440608",
     "exception": false,
     "start_time": "2023-06-08T17:02:02.417530",
     "status": "completed"
    },
    "tags": []
   },
   "source": [
    "Countplot of Gender"
   ]
  },
  {
   "cell_type": "code",
   "execution_count": 14,
   "id": "eae9969f",
   "metadata": {
    "execution": {
     "iopub.execute_input": "2023-06-08T17:02:02.489673Z",
     "iopub.status.busy": "2023-06-08T17:02:02.489209Z",
     "iopub.status.idle": "2023-06-08T17:02:02.766715Z",
     "shell.execute_reply": "2023-06-08T17:02:02.765642Z"
    },
    "papermill": {
     "duration": 0.305295,
     "end_time": "2023-06-08T17:02:02.769526",
     "exception": false,
     "start_time": "2023-06-08T17:02:02.464231",
     "status": "completed"
    },
    "tags": []
   },
   "outputs": [
    {
     "data": {
      "text/plain": [
       "Text(0.5, 1.0, 'Countplot of Gender')"
      ]
     },
     "execution_count": 14,
     "metadata": {},
     "output_type": "execute_result"
    },
    {
     "data": {
      "image/png": "[encoded data removed]",
      "text/plain": [
       "<Figure size 432x288 with 1 Axes>"
      ]
     },
     "metadata": {
      "needs_background": "light"
     },
     "output_type": "display_data"
    }
   ],
   "source": [
    "sns.countplot(data=customers,x='Gender')\n",
    "plt.title('Countplot of Gender')"
   ]
  },
  {
   "cell_type": "markdown",
   "id": "786e722f",
   "metadata": {
    "papermill": {
     "duration": 0.024286,
     "end_time": "2023-06-08T17:02:02.818062",
     "exception": false,
     "start_time": "2023-06-08T17:02:02.793776",
     "status": "completed"
    },
    "tags": []
   },
   "source": [
    "Dividing all three measures in particular ranges"
   ]
  },
  {
   "cell_type": "code",
   "execution_count": 15,
   "id": "2fd30a76",
   "metadata": {
    "execution": {
     "iopub.execute_input": "2023-06-08T17:02:02.868468Z",
     "iopub.status.busy": "2023-06-08T17:02:02.868083Z",
     "iopub.status.idle": "2023-06-08T17:02:02.879168Z",
     "shell.execute_reply": "2023-06-08T17:02:02.878001Z"
    },
    "papermill": {
     "duration": 0.039146,
     "end_time": "2023-06-08T17:02:02.881575",
     "exception": false,
     "start_time": "2023-06-08T17:02:02.842429",
     "status": "completed"
    },
    "tags": []
   },
   "outputs": [],
   "source": [
    "#Bifurcation of Annual Income\n",
    "ai_0_30 = customers['Annual Income (k$)'][(customers['Annual Income (k$)']>=0) & (customers['Annual Income (k$)'] <=30)]\n",
    "ai_31_60 = customers['Annual Income (k$)'][(customers['Annual Income (k$)']>=31) &(customers['Annual Income (k$)'] <=60)]\n",
    "ai_61_90 = customers['Annual Income (k$)'][(customers['Annual Income (k$)']>=61) & (customers['Annual Income (k$)'] <=90)]\n",
    "ai_91_120 = customers['Annual Income (k$)'][(customers['Annual Income (k$)']>=91) & (customers['Annual Income (k$)'] <=120)]\n",
    "ai_121_150 = customers['Annual Income (k$)'][(customers['Annual Income (k$)']>=121) & (customers['Annual Income (k$)'] <=150)]"
   ]
  },
  {
   "cell_type": "code",
   "execution_count": 16,
   "id": "5290bc3f",
   "metadata": {
    "execution": {
     "iopub.execute_input": "2023-06-08T17:02:02.932064Z",
     "iopub.status.busy": "2023-06-08T17:02:02.931536Z",
     "iopub.status.idle": "2023-06-08T17:02:02.937737Z",
     "shell.execute_reply": "2023-06-08T17:02:02.936663Z"
    },
    "papermill": {
     "duration": 0.034384,
     "end_time": "2023-06-08T17:02:02.940010",
     "exception": false,
     "start_time": "2023-06-08T17:02:02.905626",
     "status": "completed"
    },
    "tags": []
   },
   "outputs": [],
   "source": [
    "income_x = [\"0-30\",\"31-60\",\"61-90\",\"91-120\",\"121-150\"]\n",
    "incomey_y = [len(ai_0_30.values),len(ai_31_60.values),len(ai_61_90.values),len(ai_91_120.values),len(ai_121_150.values)]"
   ]
  },
  {
   "cell_type": "code",
   "execution_count": 17,
   "id": "22e0c692",
   "metadata": {
    "execution": {
     "iopub.execute_input": "2023-06-08T17:02:02.991008Z",
     "iopub.status.busy": "2023-06-08T17:02:02.990596Z",
     "iopub.status.idle": "2023-06-08T17:02:03.314598Z",
     "shell.execute_reply": "2023-06-08T17:02:03.313477Z"
    },
    "papermill": {
     "duration": 0.352117,
     "end_time": "2023-06-08T17:02:03.316946",
     "exception": false,
     "start_time": "2023-06-08T17:02:02.964829",
     "status": "completed"
    },
    "tags": []
   },
   "outputs": [
    {
     "data": {
      "image/png": "[encoded data removed]",
      "text/plain": [
       "<Figure size 720x360 with 1 Axes>"
      ]
     },
     "metadata": {
      "needs_background": "light"
     },
     "output_type": "display_data"
    }
   ],
   "source": [
    "plt.figure(figsize=(10,5))\n",
    "sns.barplot(x=income_x,y=incomey_y,palette='mako')\n",
    "plt.title(\"Number of Customers in Income Groups\")\n",
    "plt.xlabel(\"Income Group (k$)\")\n",
    "plt.ylabel(\"Number of Customers\")\n",
    "plt.show()"
   ]
  },
  {
   "cell_type": "code",
   "execution_count": 18,
   "id": "8707e782",
   "metadata": {
    "execution": {
     "iopub.execute_input": "2023-06-08T17:02:03.368978Z",
     "iopub.status.busy": "2023-06-08T17:02:03.367860Z",
     "iopub.status.idle": "2023-06-08T17:02:03.377532Z",
     "shell.execute_reply": "2023-06-08T17:02:03.376642Z"
    },
    "papermill": {
     "duration": 0.038175,
     "end_time": "2023-06-08T17:02:03.379985",
     "exception": false,
     "start_time": "2023-06-08T17:02:03.341810",
     "status": "completed"
    },
    "tags": []
   },
   "outputs": [],
   "source": [
    "#Bifurcation of Age\n",
    "Age_18_25 = customers.Age[(customers.Age >=18) & (customers.Age <= 25)]\n",
    "Age_26_35 = customers.Age[(customers.Age >=26) & (customers.Age <= 35)]\n",
    "Age_36_45 = customers.Age[(customers.Age >=36) & (customers.Age <= 45)]\n",
    "Age_46_55 = customers.Age[(customers.Age >=46) & (customers.Age <= 55)]\n",
    "Age_55above = customers.Age[(customers.Age >55)]"
   ]
  },
  {
   "cell_type": "code",
   "execution_count": 19,
   "id": "73d54e03",
   "metadata": {
    "execution": {
     "iopub.execute_input": "2023-06-08T17:02:03.431846Z",
     "iopub.status.busy": "2023-06-08T17:02:03.430817Z",
     "iopub.status.idle": "2023-06-08T17:02:03.436724Z",
     "shell.execute_reply": "2023-06-08T17:02:03.435676Z"
    },
    "papermill": {
     "duration": 0.034326,
     "end_time": "2023-06-08T17:02:03.439404",
     "exception": false,
     "start_time": "2023-06-08T17:02:03.405078",
     "status": "completed"
    },
    "tags": []
   },
   "outputs": [],
   "source": [
    "Age_x = [\"18-25\",\"26-35\",\"36-45\",\"46-55\",\"55+\"]\n",
    "Age_y = [len(Age_18_25.values),len(Age_26_35.values),len(Age_36_45.values),len(Age_46_55.values),len(Age_55above.values)]"
   ]
  },
  {
   "cell_type": "code",
   "execution_count": 20,
   "id": "9a040143",
   "metadata": {
    "execution": {
     "iopub.execute_input": "2023-06-08T17:02:03.491185Z",
     "iopub.status.busy": "2023-06-08T17:02:03.490768Z",
     "iopub.status.idle": "2023-06-08T17:02:03.799391Z",
     "shell.execute_reply": "2023-06-08T17:02:03.798305Z"
    },
    "papermill": {
     "duration": 0.337476,
     "end_time": "2023-06-08T17:02:03.802220",
     "exception": false,
     "start_time": "2023-06-08T17:02:03.464744",
     "status": "completed"
    },
    "tags": []
   },
   "outputs": [
    {
     "data": {
      "image/png": "[encoded data removed]",
      "text/plain": [
       "<Figure size 720x360 with 1 Axes>"
      ]
     },
     "metadata": {
      "needs_background": "light"
     },
     "output_type": "display_data"
    }
   ],
   "source": [
    "plt.figure(figsize=(10,5))\n",
    "sns.barplot(x=Age_x,y=Age_y,palette='mako')\n",
    "plt.title(\"Number of Customers in Age Group\")\n",
    "plt.xlabel(\"Age Group\")\n",
    "plt.ylabel(\"Number of Customers\")\n",
    "plt.show()"
   ]
  },
  {
   "cell_type": "markdown",
   "id": "5aa0857d",
   "metadata": {
    "papermill": {
     "duration": 0.024719,
     "end_time": "2023-06-08T17:02:03.852305",
     "exception": false,
     "start_time": "2023-06-08T17:02:03.827586",
     "status": "completed"
    },
    "tags": []
   },
   "source": [
    "Relationship plot between Annual Income and Spending Scores"
   ]
  },
  {
   "cell_type": "code",
   "execution_count": 21,
   "id": "2200469a",
   "metadata": {
    "execution": {
     "iopub.execute_input": "2023-06-08T17:02:03.904421Z",
     "iopub.status.busy": "2023-06-08T17:02:03.903168Z",
     "iopub.status.idle": "2023-06-08T17:02:04.364090Z",
     "shell.execute_reply": "2023-06-08T17:02:04.362846Z"
    },
    "papermill": {
     "duration": 0.489773,
     "end_time": "2023-06-08T17:02:04.366864",
     "exception": false,
     "start_time": "2023-06-08T17:02:03.877091",
     "status": "completed"
    },
    "tags": []
   },
   "outputs": [
    {
     "data": {
      "text/plain": [
       "(8.899999999999999, 143.1, -3.9000000000000004, 103.9)"
      ]
     },
     "execution_count": 21,
     "metadata": {},
     "output_type": "execute_result"
    },
    {
     "data": {
      "image/png": "[encoded data removed]",
      "text/plain": [
       "<Figure size 360x360 with 1 Axes>"
      ]
     },
     "metadata": {
      "needs_background": "light"
     },
     "output_type": "display_data"
    }
   ],
   "source": [
    "sns.relplot(x='Annual Income (k$)',y='Spending Score (1-100)',data=customers)\n",
    "plt.axis()"
   ]
  },
  {
   "cell_type": "code",
   "execution_count": 22,
   "id": "e1e92bde",
   "metadata": {
    "execution": {
     "iopub.execute_input": "2023-06-08T17:02:04.420440Z",
     "iopub.status.busy": "2023-06-08T17:02:04.419670Z",
     "iopub.status.idle": "2023-06-08T17:02:04.431432Z",
     "shell.execute_reply": "2023-06-08T17:02:04.430198Z"
    },
    "papermill": {
     "duration": 0.041252,
     "end_time": "2023-06-08T17:02:04.433770",
     "exception": false,
     "start_time": "2023-06-08T17:02:04.392518",
     "status": "completed"
    },
    "tags": []
   },
   "outputs": [],
   "source": [
    "#Bifurcation of Spending Scores\n",
    "ss_1_20 = customers['Spending Score (1-100)'][(customers['Spending Score (1-100)']>=1) & (customers['Spending Score (1-100)'] <=20)]\n",
    "ss_21_40 = customers['Spending Score (1-100)'][(customers['Spending Score (1-100)']>=21) &(customers['Spending Score (1-100)'] <=40)]\n",
    "ss_41_60 = customers['Spending Score (1-100)'][(customers['Spending Score (1-100)']>=41) & (customers['Spending Score (1-100)'] <=60)]\n",
    "ss_61_80 = customers['Spending Score (1-100)'][(customers['Spending Score (1-100)']>=61) & (customers['Spending Score (1-100)'] <=80)]\n",
    "ss_81_100 = customers['Spending Score (1-100)'][(customers['Spending Score (1-100)']>=81) & (customers['Spending Score (1-100)'] <=100)]"
   ]
  },
  {
   "cell_type": "code",
   "execution_count": 23,
   "id": "ce314501",
   "metadata": {
    "execution": {
     "iopub.execute_input": "2023-06-08T17:02:04.488198Z",
     "iopub.status.busy": "2023-06-08T17:02:04.486974Z",
     "iopub.status.idle": "2023-06-08T17:02:04.493470Z",
     "shell.execute_reply": "2023-06-08T17:02:04.492267Z"
    },
    "papermill": {
     "duration": 0.036255,
     "end_time": "2023-06-08T17:02:04.496006",
     "exception": false,
     "start_time": "2023-06-08T17:02:04.459751",
     "status": "completed"
    },
    "tags": []
   },
   "outputs": [],
   "source": [
    "ss_x = [\"1-20\",\"21-40\",\"41-60\",\"61-80\",\"81-100\"]\n",
    "ss_y = [len(ss_1_20.values),len(ss_21_40.values),len(ss_41_60.values),len(ss_61_80.values),len(ss_81_100.values)]"
   ]
  },
  {
   "cell_type": "code",
   "execution_count": 24,
   "id": "7234c393",
   "metadata": {
    "execution": {
     "iopub.execute_input": "2023-06-08T17:02:04.549494Z",
     "iopub.status.busy": "2023-06-08T17:02:04.548767Z",
     "iopub.status.idle": "2023-06-08T17:02:04.855782Z",
     "shell.execute_reply": "2023-06-08T17:02:04.854619Z"
    },
    "papermill": {
     "duration": 0.336698,
     "end_time": "2023-06-08T17:02:04.858404",
     "exception": false,
     "start_time": "2023-06-08T17:02:04.521706",
     "status": "completed"
    },
    "tags": []
   },
   "outputs": [
    {
     "data": {
      "image/png": "[encoded data removed]",
      "text/plain": [
       "<Figure size 720x360 with 1 Axes>"
      ]
     },
     "metadata": {
      "needs_background": "light"
     },
     "output_type": "display_data"
    }
   ],
   "source": [
    "plt.figure(figsize=(10,5))\n",
    "sns.barplot(x=ss_x,y=ss_y,palette='mako')\n",
    "plt.title(\"Spending Scores\")\n",
    "plt.xlabel(\"Score\")\n",
    "plt.ylabel(\"Number of Customers\")\n",
    "plt.show()"
   ]
  },
  {
   "cell_type": "markdown",
   "id": "6ac493d9",
   "metadata": {
    "papermill": {
     "duration": 0.026617,
     "end_time": "2023-06-08T17:02:04.911199",
     "exception": false,
     "start_time": "2023-06-08T17:02:04.884582",
     "status": "completed"
    },
    "tags": []
   },
   "source": [
    "## Converting Gender Labels into (0,1)\n",
    "0-Female , 1-Male"
   ]
  },
  {
   "cell_type": "code",
   "execution_count": 25,
   "id": "cf490e59",
   "metadata": {
    "execution": {
     "iopub.execute_input": "2023-06-08T17:02:04.965642Z",
     "iopub.status.busy": "2023-06-08T17:02:04.965196Z",
     "iopub.status.idle": "2023-06-08T17:02:05.118633Z",
     "shell.execute_reply": "2023-06-08T17:02:05.117092Z"
    },
    "papermill": {
     "duration": 0.184244,
     "end_time": "2023-06-08T17:02:05.121714",
     "exception": false,
     "start_time": "2023-06-08T17:02:04.937470",
     "status": "completed"
    },
    "tags": []
   },
   "outputs": [],
   "source": [
    "from sklearn.preprocessing import LabelEncoder"
   ]
  },
  {
   "cell_type": "code",
   "execution_count": 26,
   "id": "6973da05",
   "metadata": {
    "execution": {
     "iopub.execute_input": "2023-06-08T17:02:05.176947Z",
     "iopub.status.busy": "2023-06-08T17:02:05.175903Z",
     "iopub.status.idle": "2023-06-08T17:02:05.180938Z",
     "shell.execute_reply": "2023-06-08T17:02:05.180117Z"
    },
    "papermill": {
     "duration": 0.035082,
     "end_time": "2023-06-08T17:02:05.183068",
     "exception": false,
     "start_time": "2023-06-08T17:02:05.147986",
     "status": "completed"
    },
    "tags": []
   },
   "outputs": [],
   "source": [
    "encoder = LabelEncoder()"
   ]
  },
  {
   "cell_type": "code",
   "execution_count": 27,
   "id": "68f5e6ec",
   "metadata": {
    "execution": {
     "iopub.execute_input": "2023-06-08T17:02:05.238603Z",
     "iopub.status.busy": "2023-06-08T17:02:05.237847Z",
     "iopub.status.idle": "2023-06-08T17:02:05.250175Z",
     "shell.execute_reply": "2023-06-08T17:02:05.248953Z"
    },
    "papermill": {
     "duration": 0.043522,
     "end_time": "2023-06-08T17:02:05.252958",
     "exception": false,
     "start_time": "2023-06-08T17:02:05.209436",
     "status": "completed"
    },
    "tags": []
   },
   "outputs": [
    {
     "data": {
      "text/html": [
       "<div>\n",
       "<style scoped>\n",
       "    .dataframe tbody tr th:only-of-type {\n",
       "        vertical-align: middle;\n",
       "    }\n",
       "\n",
       "    .dataframe tbody tr th {\n",
       "        vertical-align: top;\n",
       "    }\n",
       "\n",
       "    .dataframe thead th {\n",
       "        text-align: right;\n",
       "    }\n",
       "</style>\n",
       "<table border=\"1\" class=\"dataframe\">\n",
       "  <thead>\n",
       "    <tr style=\"text-align: right;\">\n",
       "      <th></th>\n",
       "      <th>Gender</th>\n",
       "    </tr>\n",
       "  </thead>\n",
       "  <tbody>\n",
       "    <tr>\n",
       "      <th>0</th>\n",
       "      <td>Male</td>\n",
       "    </tr>\n",
       "    <tr>\n",
       "      <th>1</th>\n",
       "      <td>Male</td>\n",
       "    </tr>\n",
       "    <tr>\n",
       "      <th>2</th>\n",
       "      <td>Female</td>\n",
       "    </tr>\n",
       "    <tr>\n",
       "      <th>3</th>\n",
       "      <td>Female</td>\n",
       "    </tr>\n",
       "    <tr>\n",
       "      <th>4</th>\n",
       "      <td>Female</td>\n",
       "    </tr>\n",
       "    <tr>\n",
       "      <th>...</th>\n",
       "      <td>...</td>\n",
       "    </tr>\n",
       "    <tr>\n",
       "      <th>195</th>\n",
       "      <td>Female</td>\n",
       "    </tr>\n",
       "    <tr>\n",
       "      <th>196</th>\n",
       "      <td>Female</td>\n",
       "    </tr>\n",
       "    <tr>\n",
       "      <th>197</th>\n",
       "      <td>Male</td>\n",
       "    </tr>\n",
       "    <tr>\n",
       "      <th>198</th>\n",
       "      <td>Male</td>\n",
       "    </tr>\n",
       "    <tr>\n",
       "      <th>199</th>\n",
       "      <td>Male</td>\n",
       "    </tr>\n",
       "  </tbody>\n",
       "</table>\n",
       "<p>200 rows × 1 columns</p>\n",
       "</div>"
      ],
      "text/plain": [
       "     Gender\n",
       "0      Male\n",
       "1      Male\n",
       "2    Female\n",
       "3    Female\n",
       "4    Female\n",
       "..      ...\n",
       "195  Female\n",
       "196  Female\n",
       "197    Male\n",
       "198    Male\n",
       "199    Male\n",
       "\n",
       "[200 rows x 1 columns]"
      ]
     },
     "execution_count": 27,
     "metadata": {},
     "output_type": "execute_result"
    }
   ],
   "source": [
    "customers[['Gender']]"
   ]
  },
  {
   "cell_type": "code",
   "execution_count": 28,
   "id": "cd0f40eb",
   "metadata": {
    "execution": {
     "iopub.execute_input": "2023-06-08T17:02:05.308057Z",
     "iopub.status.busy": "2023-06-08T17:02:05.307236Z",
     "iopub.status.idle": "2023-06-08T17:02:05.320048Z",
     "shell.execute_reply": "2023-06-08T17:02:05.318699Z"
    },
    "papermill": {
     "duration": 0.043409,
     "end_time": "2023-06-08T17:02:05.322833",
     "exception": false,
     "start_time": "2023-06-08T17:02:05.279424",
     "status": "completed"
    },
    "tags": []
   },
   "outputs": [
    {
     "name": "stderr",
     "output_type": "stream",
     "text": [
      "C:\\Users\\BPrakash\\Anaconda3\\lib\\site-packages\\sklearn\\preprocessing\\_label.py:116: DataConversionWarning: A column-vector y was passed when a 1d array was expected. Please change the shape of y to (n_samples, ), for example using ravel().\n",
      "  y = column_or_1d(y, warn=True)\n"
     ]
    }
   ],
   "source": [
    "encoded_data = encoder.fit_transform(customers[['Gender']])"
   ]
  },
  {
   "cell_type": "code",
   "execution_count": 29,
   "id": "184be503",
   "metadata": {
    "execution": {
     "iopub.execute_input": "2023-06-08T17:02:05.379308Z",
     "iopub.status.busy": "2023-06-08T17:02:05.378918Z",
     "iopub.status.idle": "2023-06-08T17:02:05.386988Z",
     "shell.execute_reply": "2023-06-08T17:02:05.385843Z"
    },
    "papermill": {
     "duration": 0.040093,
     "end_time": "2023-06-08T17:02:05.389508",
     "exception": false,
     "start_time": "2023-06-08T17:02:05.349415",
     "status": "completed"
    },
    "tags": []
   },
   "outputs": [
    {
     "data": {
      "text/plain": [
       "array([1, 1, 0, 0, 0, 0, 0, 0, 1, 0, 1, 0, 0, 0, 1, 1, 0, 1, 1, 0, 1, 1,\n",
       "       0, 1, 0, 1, 0, 1, 0, 0, 1, 0, 1, 1, 0, 0, 0, 0, 0, 0, 0, 1, 1, 0,\n",
       "       0, 0, 0, 0, 0, 0, 0, 1, 0, 1, 0, 1, 0, 1, 0, 1, 1, 1, 0, 0, 1, 1,\n",
       "       0, 0, 1, 0, 1, 0, 0, 0, 1, 1, 0, 1, 0, 0, 1, 1, 1, 0, 0, 1, 0, 0,\n",
       "       0, 0, 0, 1, 1, 0, 0, 1, 0, 0, 1, 1, 0, 0, 1, 1, 1, 0, 0, 1, 1, 1,\n",
       "       1, 0, 0, 1, 0, 0, 0, 0, 0, 0, 1, 0, 0, 1, 0, 0, 1, 1, 1, 1, 1, 1,\n",
       "       0, 0, 1, 0, 0, 1, 1, 0, 0, 1, 0, 0, 1, 1, 1, 0, 0, 1, 1, 1, 0, 0,\n",
       "       0, 0, 1, 0, 1, 0, 0, 0, 1, 0, 1, 0, 1, 0, 0, 1, 1, 1, 1, 1, 0, 0,\n",
       "       1, 1, 1, 1, 0, 0, 1, 0, 0, 1, 0, 1, 0, 0, 0, 0, 1, 0, 0, 0, 0, 1,\n",
       "       1, 1])"
      ]
     },
     "execution_count": 29,
     "metadata": {},
     "output_type": "execute_result"
    }
   ],
   "source": [
    "encoded_data"
   ]
  },
  {
   "cell_type": "code",
   "execution_count": 30,
   "id": "ea6ba2db",
   "metadata": {
    "execution": {
     "iopub.execute_input": "2023-06-08T17:02:05.444604Z",
     "iopub.status.busy": "2023-06-08T17:02:05.444169Z",
     "iopub.status.idle": "2023-06-08T17:02:05.449617Z",
     "shell.execute_reply": "2023-06-08T17:02:05.448419Z"
    },
    "papermill": {
     "duration": 0.035907,
     "end_time": "2023-06-08T17:02:05.452057",
     "exception": false,
     "start_time": "2023-06-08T17:02:05.416150",
     "status": "completed"
    },
    "tags": []
   },
   "outputs": [],
   "source": [
    "customers['Gender'] = encoded_data"
   ]
  },
  {
   "cell_type": "code",
   "execution_count": 31,
   "id": "26ec99d6",
   "metadata": {
    "execution": {
     "iopub.execute_input": "2023-06-08T17:02:05.507586Z",
     "iopub.status.busy": "2023-06-08T17:02:05.506816Z",
     "iopub.status.idle": "2023-06-08T17:02:05.518749Z",
     "shell.execute_reply": "2023-06-08T17:02:05.517893Z"
    },
    "papermill": {
     "duration": 0.042338,
     "end_time": "2023-06-08T17:02:05.521131",
     "exception": false,
     "start_time": "2023-06-08T17:02:05.478793",
     "status": "completed"
    },
    "tags": []
   },
   "outputs": [
    {
     "data": {
      "text/html": [
       "<div>\n",
       "<style scoped>\n",
       "    .dataframe tbody tr th:only-of-type {\n",
       "        vertical-align: middle;\n",
       "    }\n",
       "\n",
       "    .dataframe tbody tr th {\n",
       "        vertical-align: top;\n",
       "    }\n",
       "\n",
       "    .dataframe thead th {\n",
       "        text-align: right;\n",
       "    }\n",
       "</style>\n",
       "<table border=\"1\" class=\"dataframe\">\n",
       "  <thead>\n",
       "    <tr style=\"text-align: right;\">\n",
       "      <th></th>\n",
       "      <th>Gender</th>\n",
       "      <th>Age</th>\n",
       "      <th>Annual Income (k$)</th>\n",
       "      <th>Spending Score (1-100)</th>\n",
       "    </tr>\n",
       "  </thead>\n",
       "  <tbody>\n",
       "    <tr>\n",
       "      <th>0</th>\n",
       "      <td>1</td>\n",
       "      <td>19</td>\n",
       "      <td>15</td>\n",
       "      <td>39</td>\n",
       "    </tr>\n",
       "    <tr>\n",
       "      <th>1</th>\n",
       "      <td>1</td>\n",
       "      <td>21</td>\n",
       "      <td>15</td>\n",
       "      <td>81</td>\n",
       "    </tr>\n",
       "    <tr>\n",
       "      <th>2</th>\n",
       "      <td>0</td>\n",
       "      <td>20</td>\n",
       "      <td>16</td>\n",
       "      <td>6</td>\n",
       "    </tr>\n",
       "    <tr>\n",
       "      <th>3</th>\n",
       "      <td>0</td>\n",
       "      <td>23</td>\n",
       "      <td>16</td>\n",
       "      <td>77</td>\n",
       "    </tr>\n",
       "    <tr>\n",
       "      <th>4</th>\n",
       "      <td>0</td>\n",
       "      <td>31</td>\n",
       "      <td>17</td>\n",
       "      <td>40</td>\n",
       "    </tr>\n",
       "    <tr>\n",
       "      <th>...</th>\n",
       "      <td>...</td>\n",
       "      <td>...</td>\n",
       "      <td>...</td>\n",
       "      <td>...</td>\n",
       "    </tr>\n",
       "    <tr>\n",
       "      <th>195</th>\n",
       "      <td>0</td>\n",
       "      <td>35</td>\n",
       "      <td>120</td>\n",
       "      <td>79</td>\n",
       "    </tr>\n",
       "    <tr>\n",
       "      <th>196</th>\n",
       "      <td>0</td>\n",
       "      <td>45</td>\n",
       "      <td>126</td>\n",
       "      <td>28</td>\n",
       "    </tr>\n",
       "    <tr>\n",
       "      <th>197</th>\n",
       "      <td>1</td>\n",
       "      <td>32</td>\n",
       "      <td>126</td>\n",
       "      <td>74</td>\n",
       "    </tr>\n",
       "    <tr>\n",
       "      <th>198</th>\n",
       "      <td>1</td>\n",
       "      <td>32</td>\n",
       "      <td>137</td>\n",
       "      <td>18</td>\n",
       "    </tr>\n",
       "    <tr>\n",
       "      <th>199</th>\n",
       "      <td>1</td>\n",
       "      <td>30</td>\n",
       "      <td>137</td>\n",
       "      <td>83</td>\n",
       "    </tr>\n",
       "  </tbody>\n",
       "</table>\n",
       "<p>200 rows × 4 columns</p>\n",
       "</div>"
      ],
      "text/plain": [
       "     Gender  Age  Annual Income (k$)  Spending Score (1-100)\n",
       "0         1   19                  15                      39\n",
       "1         1   21                  15                      81\n",
       "2         0   20                  16                       6\n",
       "3         0   23                  16                      77\n",
       "4         0   31                  17                      40\n",
       "..      ...  ...                 ...                     ...\n",
       "195       0   35                 120                      79\n",
       "196       0   45                 126                      28\n",
       "197       1   32                 126                      74\n",
       "198       1   32                 137                      18\n",
       "199       1   30                 137                      83\n",
       "\n",
       "[200 rows x 4 columns]"
      ]
     },
     "execution_count": 31,
     "metadata": {},
     "output_type": "execute_result"
    }
   ],
   "source": [
    "customers"
   ]
  },
  {
   "cell_type": "markdown",
   "id": "ad2f1b68",
   "metadata": {
    "papermill": {
     "duration": 0.026532,
     "end_time": "2023-06-08T17:02:05.574735",
     "exception": false,
     "start_time": "2023-06-08T17:02:05.548203",
     "status": "completed"
    },
    "tags": []
   },
   "source": [
    "## Plotting Graphs Using K-Means Algorithm"
   ]
  },
  {
   "cell_type": "markdown",
   "id": "c577b92d",
   "metadata": {
    "papermill": {
     "duration": 0.026895,
     "end_time": "2023-06-08T17:02:05.628575",
     "exception": false,
     "start_time": "2023-06-08T17:02:05.601680",
     "status": "completed"
    },
    "tags": []
   },
   "source": [
    "1. Relationship between Age and Spending Scores"
   ]
  },
  {
   "cell_type": "code",
   "execution_count": 32,
   "id": "b8f24536",
   "metadata": {
    "execution": {
     "iopub.execute_input": "2023-06-08T17:02:05.685220Z",
     "iopub.status.busy": "2023-06-08T17:02:05.684062Z",
     "iopub.status.idle": "2023-06-08T17:02:05.690501Z",
     "shell.execute_reply": "2023-06-08T17:02:05.689528Z"
    },
    "papermill": {
     "duration": 0.037216,
     "end_time": "2023-06-08T17:02:05.692797",
     "exception": false,
     "start_time": "2023-06-08T17:02:05.655581",
     "status": "completed"
    },
    "tags": []
   },
   "outputs": [],
   "source": [
    "x1 = customers.loc[:,[\"Age\",'Spending Score (1-100)']].values"
   ]
  },
  {
   "cell_type": "code",
   "execution_count": 33,
   "id": "a19dd2a7",
   "metadata": {
    "execution": {
     "iopub.execute_input": "2023-06-08T17:02:05.748691Z",
     "iopub.status.busy": "2023-06-08T17:02:05.747911Z",
     "iopub.status.idle": "2023-06-08T17:02:05.758688Z",
     "shell.execute_reply": "2023-06-08T17:02:05.757658Z"
    },
    "papermill": {
     "duration": 0.041566,
     "end_time": "2023-06-08T17:02:05.761172",
     "exception": false,
     "start_time": "2023-06-08T17:02:05.719606",
     "status": "completed"
    },
    "tags": []
   },
   "outputs": [
    {
     "data": {
      "text/plain": [
       "array([[19, 39],\n",
       "       [21, 81],\n",
       "       [20,  6],\n",
       "       [23, 77],\n",
       "       [31, 40],\n",
       "       [22, 76],\n",
       "       [35,  6],\n",
       "       [23, 94],\n",
       "       [64,  3],\n",
       "       [30, 72],\n",
       "       [67, 14],\n",
       "       [35, 99],\n",
       "       [58, 15],\n",
       "       [24, 77],\n",
       "       [37, 13],\n",
       "       [22, 79],\n",
       "       [35, 35],\n",
       "       [20, 66],\n",
       "       [52, 29],\n",
       "       [35, 98],\n",
       "       [35, 35],\n",
       "       [25, 73],\n",
       "       [46,  5],\n",
       "       [31, 73],\n",
       "       [54, 14],\n",
       "       [29, 82],\n",
       "       [45, 32],\n",
       "       [35, 61],\n",
       "       [40, 31],\n",
       "       [23, 87],\n",
       "       [60,  4],\n",
       "       [21, 73],\n",
       "       [53,  4],\n",
       "       [18, 92],\n",
       "       [49, 14],\n",
       "       [21, 81],\n",
       "       [42, 17],\n",
       "       [30, 73],\n",
       "       [36, 26],\n",
       "       [20, 75],\n",
       "       [65, 35],\n",
       "       [24, 92],\n",
       "       [48, 36],\n",
       "       [31, 61],\n",
       "       [49, 28],\n",
       "       [24, 65],\n",
       "       [50, 55],\n",
       "       [27, 47],\n",
       "       [29, 42],\n",
       "       [31, 42],\n",
       "       [49, 52],\n",
       "       [33, 60],\n",
       "       [31, 54],\n",
       "       [59, 60],\n",
       "       [50, 45],\n",
       "       [47, 41],\n",
       "       [51, 50],\n",
       "       [69, 46],\n",
       "       [27, 51],\n",
       "       [53, 46],\n",
       "       [70, 56],\n",
       "       [19, 55],\n",
       "       [67, 52],\n",
       "       [54, 59],\n",
       "       [63, 51],\n",
       "       [18, 59],\n",
       "       [43, 50],\n",
       "       [68, 48],\n",
       "       [19, 59],\n",
       "       [32, 47],\n",
       "       [70, 55],\n",
       "       [47, 42],\n",
       "       [60, 49],\n",
       "       [60, 56],\n",
       "       [59, 47],\n",
       "       [26, 54],\n",
       "       [45, 53],\n",
       "       [40, 48],\n",
       "       [23, 52],\n",
       "       [49, 42],\n",
       "       [57, 51],\n",
       "       [38, 55],\n",
       "       [67, 41],\n",
       "       [46, 44],\n",
       "       [21, 57],\n",
       "       [48, 46],\n",
       "       [55, 58],\n",
       "       [22, 55],\n",
       "       [34, 60],\n",
       "       [50, 46],\n",
       "       [68, 55],\n",
       "       [18, 41],\n",
       "       [48, 49],\n",
       "       [40, 40],\n",
       "       [32, 42],\n",
       "       [24, 52],\n",
       "       [47, 47],\n",
       "       [27, 50],\n",
       "       [48, 42],\n",
       "       [20, 49],\n",
       "       [23, 41],\n",
       "       [49, 48],\n",
       "       [67, 59],\n",
       "       [26, 55],\n",
       "       [49, 56],\n",
       "       [21, 42],\n",
       "       [66, 50],\n",
       "       [54, 46],\n",
       "       [68, 43],\n",
       "       [66, 48],\n",
       "       [65, 52],\n",
       "       [19, 54],\n",
       "       [38, 42],\n",
       "       [19, 46],\n",
       "       [18, 48],\n",
       "       [19, 50],\n",
       "       [63, 43],\n",
       "       [49, 59],\n",
       "       [51, 43],\n",
       "       [50, 57],\n",
       "       [27, 56],\n",
       "       [38, 40],\n",
       "       [40, 58],\n",
       "       [39, 91],\n",
       "       [23, 29],\n",
       "       [31, 77],\n",
       "       [43, 35],\n",
       "       [40, 95],\n",
       "       [59, 11],\n",
       "       [38, 75],\n",
       "       [47,  9],\n",
       "       [39, 75],\n",
       "       [25, 34],\n",
       "       [31, 71],\n",
       "       [20,  5],\n",
       "       [29, 88],\n",
       "       [44,  7],\n",
       "       [32, 73],\n",
       "       [19, 10],\n",
       "       [35, 72],\n",
       "       [57,  5],\n",
       "       [32, 93],\n",
       "       [28, 40],\n",
       "       [32, 87],\n",
       "       [25, 12],\n",
       "       [28, 97],\n",
       "       [48, 36],\n",
       "       [32, 74],\n",
       "       [34, 22],\n",
       "       [34, 90],\n",
       "       [43, 17],\n",
       "       [39, 88],\n",
       "       [44, 20],\n",
       "       [38, 76],\n",
       "       [47, 16],\n",
       "       [27, 89],\n",
       "       [37,  1],\n",
       "       [30, 78],\n",
       "       [34,  1],\n",
       "       [30, 73],\n",
       "       [56, 35],\n",
       "       [29, 83],\n",
       "       [19,  5],\n",
       "       [31, 93],\n",
       "       [50, 26],\n",
       "       [36, 75],\n",
       "       [42, 20],\n",
       "       [33, 95],\n",
       "       [36, 27],\n",
       "       [32, 63],\n",
       "       [40, 13],\n",
       "       [28, 75],\n",
       "       [36, 10],\n",
       "       [36, 92],\n",
       "       [52, 13],\n",
       "       [30, 86],\n",
       "       [58, 15],\n",
       "       [27, 69],\n",
       "       [59, 14],\n",
       "       [35, 90],\n",
       "       [37, 32],\n",
       "       [32, 86],\n",
       "       [46, 15],\n",
       "       [29, 88],\n",
       "       [41, 39],\n",
       "       [30, 97],\n",
       "       [54, 24],\n",
       "       [28, 68],\n",
       "       [41, 17],\n",
       "       [36, 85],\n",
       "       [34, 23],\n",
       "       [32, 69],\n",
       "       [33,  8],\n",
       "       [38, 91],\n",
       "       [47, 16],\n",
       "       [35, 79],\n",
       "       [45, 28],\n",
       "       [32, 74],\n",
       "       [32, 18],\n",
       "       [30, 83]], dtype=int64)"
      ]
     },
     "execution_count": 33,
     "metadata": {},
     "output_type": "execute_result"
    }
   ],
   "source": [
    "x1"
   ]
  },
  {
   "cell_type": "code",
   "execution_count": 34,
   "id": "1e357cbf",
   "metadata": {
    "execution": {
     "iopub.execute_input": "2023-06-08T17:02:05.817787Z",
     "iopub.status.busy": "2023-06-08T17:02:05.816616Z",
     "iopub.status.idle": "2023-06-08T17:02:06.887942Z",
     "shell.execute_reply": "2023-06-08T17:02:06.886681Z"
    },
    "papermill": {
     "duration": 1.102167,
     "end_time": "2023-06-08T17:02:06.890398",
     "exception": false,
     "start_time": "2023-06-08T17:02:05.788231",
     "status": "completed"
    },
    "tags": []
   },
   "outputs": [
    {
     "name": "stderr",
     "output_type": "stream",
     "text": [
      "C:\\Users\\BPrakash\\Anaconda3\\lib\\site-packages\\sklearn\\cluster\\_kmeans.py:870: FutureWarning: The default value of `n_init` will change from 10 to 'auto' in 1.4. Set the value of `n_init` explicitly to suppress the warning\n",
      "  warnings.warn(\n"
     ]
    },
    {
     "ename": "AttributeError",
     "evalue": "'NoneType' object has no attribute 'split'",
     "output_type": "error",
     "traceback": [
      "\u001b[1;31m---------------------------------------------------------------------------\u001b[0m",
      "\u001b[1;31mAttributeError\u001b[0m                            Traceback (most recent call last)",
      "\u001b[1;32m<ipython-input-34-5d05be22e770>\u001b[0m in \u001b[0;36m<module>\u001b[1;34m\u001b[0m\n\u001b[0;32m      4\u001b[0m \u001b[1;32mfor\u001b[0m \u001b[0mi\u001b[0m \u001b[1;32min\u001b[0m \u001b[0mrange\u001b[0m\u001b[1;33m(\u001b[0m\u001b[1;36m1\u001b[0m\u001b[1;33m,\u001b[0m\u001b[1;36m11\u001b[0m\u001b[1;33m)\u001b[0m\u001b[1;33m:\u001b[0m\u001b[1;33m\u001b[0m\u001b[1;33m\u001b[0m\u001b[0m\n\u001b[0;32m      5\u001b[0m     \u001b[0mkmeans\u001b[0m \u001b[1;33m=\u001b[0m \u001b[0mKMeans\u001b[0m\u001b[1;33m(\u001b[0m\u001b[0mn_clusters\u001b[0m\u001b[1;33m=\u001b[0m\u001b[0mi\u001b[0m\u001b[1;33m,\u001b[0m\u001b[0minit\u001b[0m\u001b[1;33m=\u001b[0m\u001b[1;34m'k-means++'\u001b[0m\u001b[1;33m)\u001b[0m\u001b[1;33m\u001b[0m\u001b[1;33m\u001b[0m\u001b[0m\n\u001b[1;32m----> 6\u001b[1;33m     \u001b[0mkmeans\u001b[0m\u001b[1;33m.\u001b[0m\u001b[0mfit\u001b[0m\u001b[1;33m(\u001b[0m\u001b[0mx1\u001b[0m\u001b[1;33m)\u001b[0m\u001b[1;33m\u001b[0m\u001b[1;33m\u001b[0m\u001b[0m\n\u001b[0m\u001b[0;32m      7\u001b[0m     \u001b[0mwcss\u001b[0m\u001b[1;33m.\u001b[0m\u001b[0mappend\u001b[0m\u001b[1;33m(\u001b[0m\u001b[0mkmeans\u001b[0m\u001b[1;33m.\u001b[0m\u001b[0minertia_\u001b[0m\u001b[1;33m)\u001b[0m\u001b[1;33m\u001b[0m\u001b[1;33m\u001b[0m\u001b[0m\n\u001b[0;32m      8\u001b[0m \u001b[1;33m\u001b[0m\u001b[0m\n",
      "\u001b[1;32m~\\Anaconda3\\lib\\site-packages\\sklearn\\cluster\\_kmeans.py\u001b[0m in \u001b[0;36mfit\u001b[1;34m(self, X, y, sample_weight)\u001b[0m\n\u001b[0;32m   1453\u001b[0m         \u001b[1;32melse\u001b[0m\u001b[1;33m:\u001b[0m\u001b[1;33m\u001b[0m\u001b[1;33m\u001b[0m\u001b[0m\n\u001b[0;32m   1454\u001b[0m             \u001b[0mkmeans_single\u001b[0m \u001b[1;33m=\u001b[0m \u001b[0m_kmeans_single_lloyd\u001b[0m\u001b[1;33m\u001b[0m\u001b[1;33m\u001b[0m\u001b[0m\n\u001b[1;32m-> 1455\u001b[1;33m             \u001b[0mself\u001b[0m\u001b[1;33m.\u001b[0m\u001b[0m_check_mkl_vcomp\u001b[0m\u001b[1;33m(\u001b[0m\u001b[0mX\u001b[0m\u001b[1;33m,\u001b[0m \u001b[0mX\u001b[0m\u001b[1;33m.\u001b[0m\u001b[0mshape\u001b[0m\u001b[1;33m[\u001b[0m\u001b[1;36m0\u001b[0m\u001b[1;33m]\u001b[0m\u001b[1;33m)\u001b[0m\u001b[1;33m\u001b[0m\u001b[1;33m\u001b[0m\u001b[0m\n\u001b[0m\u001b[0;32m   1456\u001b[0m \u001b[1;33m\u001b[0m\u001b[0m\n\u001b[0;32m   1457\u001b[0m         \u001b[0mbest_inertia\u001b[0m\u001b[1;33m,\u001b[0m \u001b[0mbest_labels\u001b[0m \u001b[1;33m=\u001b[0m \u001b[1;32mNone\u001b[0m\u001b[1;33m,\u001b[0m \u001b[1;32mNone\u001b[0m\u001b[1;33m\u001b[0m\u001b[1;33m\u001b[0m\u001b[0m\n",
      "\u001b[1;32m~\\Anaconda3\\lib\\site-packages\\sklearn\\cluster\\_kmeans.py\u001b[0m in \u001b[0;36m_check_mkl_vcomp\u001b[1;34m(self, X, n_samples)\u001b[0m\n\u001b[0;32m    909\u001b[0m         \u001b[0mn_active_threads\u001b[0m \u001b[1;33m=\u001b[0m \u001b[0mint\u001b[0m\u001b[1;33m(\u001b[0m\u001b[0mnp\u001b[0m\u001b[1;33m.\u001b[0m\u001b[0mceil\u001b[0m\u001b[1;33m(\u001b[0m\u001b[0mn_samples\u001b[0m \u001b[1;33m/\u001b[0m \u001b[0mCHUNK_SIZE\u001b[0m\u001b[1;33m)\u001b[0m\u001b[1;33m)\u001b[0m\u001b[1;33m\u001b[0m\u001b[1;33m\u001b[0m\u001b[0m\n\u001b[0;32m    910\u001b[0m         \u001b[1;32mif\u001b[0m \u001b[0mn_active_threads\u001b[0m \u001b[1;33m<\u001b[0m \u001b[0mself\u001b[0m\u001b[1;33m.\u001b[0m\u001b[0m_n_threads\u001b[0m\u001b[1;33m:\u001b[0m\u001b[1;33m\u001b[0m\u001b[1;33m\u001b[0m\u001b[0m\n\u001b[1;32m--> 911\u001b[1;33m             \u001b[0mmodules\u001b[0m \u001b[1;33m=\u001b[0m \u001b[0mthreadpool_info\u001b[0m\u001b[1;33m(\u001b[0m\u001b[1;33m)\u001b[0m\u001b[1;33m\u001b[0m\u001b[1;33m\u001b[0m\u001b[0m\n\u001b[0m\u001b[0;32m    912\u001b[0m             \u001b[0mhas_vcomp\u001b[0m \u001b[1;33m=\u001b[0m \u001b[1;34m\"vcomp\"\u001b[0m \u001b[1;32min\u001b[0m \u001b[1;33m[\u001b[0m\u001b[0mmodule\u001b[0m\u001b[1;33m[\u001b[0m\u001b[1;34m\"prefix\"\u001b[0m\u001b[1;33m]\u001b[0m \u001b[1;32mfor\u001b[0m \u001b[0mmodule\u001b[0m \u001b[1;32min\u001b[0m \u001b[0mmodules\u001b[0m\u001b[1;33m]\u001b[0m\u001b[1;33m\u001b[0m\u001b[1;33m\u001b[0m\u001b[0m\n\u001b[0;32m    913\u001b[0m             has_mkl = (\"mkl\", \"intel\") in [\n",
      "\u001b[1;32m~\\Anaconda3\\lib\\site-packages\\sklearn\\utils\\fixes.py\u001b[0m in \u001b[0;36mthreadpool_info\u001b[1;34m()\u001b[0m\n\u001b[0;32m    160\u001b[0m         \u001b[1;32mreturn\u001b[0m \u001b[0mcontroller\u001b[0m\u001b[1;33m.\u001b[0m\u001b[0minfo\u001b[0m\u001b[1;33m(\u001b[0m\u001b[1;33m)\u001b[0m\u001b[1;33m\u001b[0m\u001b[1;33m\u001b[0m\u001b[0m\n\u001b[0;32m    161\u001b[0m     \u001b[1;32melse\u001b[0m\u001b[1;33m:\u001b[0m\u001b[1;33m\u001b[0m\u001b[1;33m\u001b[0m\u001b[0m\n\u001b[1;32m--> 162\u001b[1;33m         \u001b[1;32mreturn\u001b[0m \u001b[0mthreadpoolctl\u001b[0m\u001b[1;33m.\u001b[0m\u001b[0mthreadpool_info\u001b[0m\u001b[1;33m(\u001b[0m\u001b[1;33m)\u001b[0m\u001b[1;33m\u001b[0m\u001b[1;33m\u001b[0m\u001b[0m\n\u001b[0m\u001b[0;32m    163\u001b[0m \u001b[1;33m\u001b[0m\u001b[0m\n\u001b[0;32m    164\u001b[0m \u001b[1;33m\u001b[0m\u001b[0m\n",
      "\u001b[1;32m~\\Anaconda3\\lib\\site-packages\\threadpoolctl.py\u001b[0m in \u001b[0;36mthreadpool_info\u001b[1;34m()\u001b[0m\n\u001b[0;32m    122\u001b[0m     \u001b[0mIn\u001b[0m \u001b[0maddition\u001b[0m\u001b[1;33m,\u001b[0m \u001b[0meach\u001b[0m \u001b[0mmodule\u001b[0m \u001b[0mmay\u001b[0m \u001b[0mcontain\u001b[0m \u001b[0minternal_api\u001b[0m \u001b[0mspecific\u001b[0m \u001b[0mentries\u001b[0m\u001b[1;33m.\u001b[0m\u001b[1;33m\u001b[0m\u001b[1;33m\u001b[0m\u001b[0m\n\u001b[0;32m    123\u001b[0m     \"\"\"\n\u001b[1;32m--> 124\u001b[1;33m     \u001b[1;32mreturn\u001b[0m \u001b[0m_ThreadpoolInfo\u001b[0m\u001b[1;33m(\u001b[0m\u001b[0muser_api\u001b[0m\u001b[1;33m=\u001b[0m\u001b[0m_ALL_USER_APIS\u001b[0m\u001b[1;33m)\u001b[0m\u001b[1;33m.\u001b[0m\u001b[0mtodicts\u001b[0m\u001b[1;33m(\u001b[0m\u001b[1;33m)\u001b[0m\u001b[1;33m\u001b[0m\u001b[1;33m\u001b[0m\u001b[0m\n\u001b[0m\u001b[0;32m    125\u001b[0m \u001b[1;33m\u001b[0m\u001b[0m\n\u001b[0;32m    126\u001b[0m \u001b[1;33m\u001b[0m\u001b[0m\n",
      "\u001b[1;32m~\\Anaconda3\\lib\\site-packages\\threadpoolctl.py\u001b[0m in \u001b[0;36m__init__\u001b[1;34m(self, user_api, prefixes, modules)\u001b[0m\n\u001b[0;32m    338\u001b[0m \u001b[1;33m\u001b[0m\u001b[0m\n\u001b[0;32m    339\u001b[0m             \u001b[0mself\u001b[0m\u001b[1;33m.\u001b[0m\u001b[0mmodules\u001b[0m \u001b[1;33m=\u001b[0m \u001b[1;33m[\u001b[0m\u001b[1;33m]\u001b[0m\u001b[1;33m\u001b[0m\u001b[1;33m\u001b[0m\u001b[0m\n\u001b[1;32m--> 340\u001b[1;33m             \u001b[0mself\u001b[0m\u001b[1;33m.\u001b[0m\u001b[0m_load_modules\u001b[0m\u001b[1;33m(\u001b[0m\u001b[1;33m)\u001b[0m\u001b[1;33m\u001b[0m\u001b[1;33m\u001b[0m\u001b[0m\n\u001b[0m\u001b[0;32m    341\u001b[0m             \u001b[0mself\u001b[0m\u001b[1;33m.\u001b[0m\u001b[0m_warn_if_incompatible_openmp\u001b[0m\u001b[1;33m(\u001b[0m\u001b[1;33m)\u001b[0m\u001b[1;33m\u001b[0m\u001b[1;33m\u001b[0m\u001b[0m\n\u001b[0;32m    342\u001b[0m         \u001b[1;32melse\u001b[0m\u001b[1;33m:\u001b[0m\u001b[1;33m\u001b[0m\u001b[1;33m\u001b[0m\u001b[0m\n",
      "\u001b[1;32m~\\Anaconda3\\lib\\site-packages\\threadpoolctl.py\u001b[0m in \u001b[0;36m_load_modules\u001b[1;34m(self)\u001b[0m\n\u001b[0;32m    371\u001b[0m             \u001b[0mself\u001b[0m\u001b[1;33m.\u001b[0m\u001b[0m_find_modules_with_dyld\u001b[0m\u001b[1;33m(\u001b[0m\u001b[1;33m)\u001b[0m\u001b[1;33m\u001b[0m\u001b[1;33m\u001b[0m\u001b[0m\n\u001b[0;32m    372\u001b[0m         \u001b[1;32melif\u001b[0m \u001b[0msys\u001b[0m\u001b[1;33m.\u001b[0m\u001b[0mplatform\u001b[0m \u001b[1;33m==\u001b[0m \u001b[1;34m\"win32\"\u001b[0m\u001b[1;33m:\u001b[0m\u001b[1;33m\u001b[0m\u001b[1;33m\u001b[0m\u001b[0m\n\u001b[1;32m--> 373\u001b[1;33m             \u001b[0mself\u001b[0m\u001b[1;33m.\u001b[0m\u001b[0m_find_modules_with_enum_process_module_ex\u001b[0m\u001b[1;33m(\u001b[0m\u001b[1;33m)\u001b[0m\u001b[1;33m\u001b[0m\u001b[1;33m\u001b[0m\u001b[0m\n\u001b[0m\u001b[0;32m    374\u001b[0m         \u001b[1;32melse\u001b[0m\u001b[1;33m:\u001b[0m\u001b[1;33m\u001b[0m\u001b[1;33m\u001b[0m\u001b[0m\n\u001b[0;32m    375\u001b[0m             \u001b[0mself\u001b[0m\u001b[1;33m.\u001b[0m\u001b[0m_find_modules_with_dl_iterate_phdr\u001b[0m\u001b[1;33m(\u001b[0m\u001b[1;33m)\u001b[0m\u001b[1;33m\u001b[0m\u001b[1;33m\u001b[0m\u001b[0m\n",
      "\u001b[1;32m~\\Anaconda3\\lib\\site-packages\\threadpoolctl.py\u001b[0m in \u001b[0;36m_find_modules_with_enum_process_module_ex\u001b[1;34m(self)\u001b[0m\n\u001b[0;32m    483\u001b[0m \u001b[1;33m\u001b[0m\u001b[0m\n\u001b[0;32m    484\u001b[0m                 \u001b[1;31m# Store the module if it is supported and selected\u001b[0m\u001b[1;33m\u001b[0m\u001b[1;33m\u001b[0m\u001b[1;33m\u001b[0m\u001b[0m\n\u001b[1;32m--> 485\u001b[1;33m                 \u001b[0mself\u001b[0m\u001b[1;33m.\u001b[0m\u001b[0m_make_module_from_path\u001b[0m\u001b[1;33m(\u001b[0m\u001b[0mfilepath\u001b[0m\u001b[1;33m)\u001b[0m\u001b[1;33m\u001b[0m\u001b[1;33m\u001b[0m\u001b[0m\n\u001b[0m\u001b[0;32m    486\u001b[0m         \u001b[1;32mfinally\u001b[0m\u001b[1;33m:\u001b[0m\u001b[1;33m\u001b[0m\u001b[1;33m\u001b[0m\u001b[0m\n\u001b[0;32m    487\u001b[0m             \u001b[0mkernel_32\u001b[0m\u001b[1;33m.\u001b[0m\u001b[0mCloseHandle\u001b[0m\u001b[1;33m(\u001b[0m\u001b[0mh_process\u001b[0m\u001b[1;33m)\u001b[0m\u001b[1;33m\u001b[0m\u001b[1;33m\u001b[0m\u001b[0m\n",
      "\u001b[1;32m~\\Anaconda3\\lib\\site-packages\\threadpoolctl.py\u001b[0m in \u001b[0;36m_make_module_from_path\u001b[1;34m(self, filepath)\u001b[0m\n\u001b[0;32m    513\u001b[0m             \u001b[1;32mif\u001b[0m \u001b[0mprefix\u001b[0m \u001b[1;32min\u001b[0m \u001b[0mself\u001b[0m\u001b[1;33m.\u001b[0m\u001b[0mprefixes\u001b[0m \u001b[1;32mor\u001b[0m \u001b[0muser_api\u001b[0m \u001b[1;32min\u001b[0m \u001b[0mself\u001b[0m\u001b[1;33m.\u001b[0m\u001b[0muser_api\u001b[0m\u001b[1;33m:\u001b[0m\u001b[1;33m\u001b[0m\u001b[1;33m\u001b[0m\u001b[0m\n\u001b[0;32m    514\u001b[0m                 \u001b[0mmodule_class\u001b[0m \u001b[1;33m=\u001b[0m \u001b[0mglobals\u001b[0m\u001b[1;33m(\u001b[0m\u001b[1;33m)\u001b[0m\u001b[1;33m[\u001b[0m\u001b[0mmodule_class\u001b[0m\u001b[1;33m]\u001b[0m\u001b[1;33m\u001b[0m\u001b[1;33m\u001b[0m\u001b[0m\n\u001b[1;32m--> 515\u001b[1;33m                 \u001b[0mmodule\u001b[0m \u001b[1;33m=\u001b[0m \u001b[0mmodule_class\u001b[0m\u001b[1;33m(\u001b[0m\u001b[0mfilepath\u001b[0m\u001b[1;33m,\u001b[0m \u001b[0mprefix\u001b[0m\u001b[1;33m,\u001b[0m \u001b[0muser_api\u001b[0m\u001b[1;33m,\u001b[0m \u001b[0minternal_api\u001b[0m\u001b[1;33m)\u001b[0m\u001b[1;33m\u001b[0m\u001b[1;33m\u001b[0m\u001b[0m\n\u001b[0m\u001b[0;32m    516\u001b[0m                 \u001b[0mself\u001b[0m\u001b[1;33m.\u001b[0m\u001b[0mmodules\u001b[0m\u001b[1;33m.\u001b[0m\u001b[0mappend\u001b[0m\u001b[1;33m(\u001b[0m\u001b[0mmodule\u001b[0m\u001b[1;33m)\u001b[0m\u001b[1;33m\u001b[0m\u001b[1;33m\u001b[0m\u001b[0m\n\u001b[0;32m    517\u001b[0m \u001b[1;33m\u001b[0m\u001b[0m\n",
      "\u001b[1;32m~\\Anaconda3\\lib\\site-packages\\threadpoolctl.py\u001b[0m in \u001b[0;36m__init__\u001b[1;34m(self, filepath, prefix, user_api, internal_api)\u001b[0m\n\u001b[0;32m    604\u001b[0m         \u001b[0mself\u001b[0m\u001b[1;33m.\u001b[0m\u001b[0minternal_api\u001b[0m \u001b[1;33m=\u001b[0m \u001b[0minternal_api\u001b[0m\u001b[1;33m\u001b[0m\u001b[1;33m\u001b[0m\u001b[0m\n\u001b[0;32m    605\u001b[0m         \u001b[0mself\u001b[0m\u001b[1;33m.\u001b[0m\u001b[0m_dynlib\u001b[0m \u001b[1;33m=\u001b[0m \u001b[0mctypes\u001b[0m\u001b[1;33m.\u001b[0m\u001b[0mCDLL\u001b[0m\u001b[1;33m(\u001b[0m\u001b[0mfilepath\u001b[0m\u001b[1;33m,\u001b[0m \u001b[0mmode\u001b[0m\u001b[1;33m=\u001b[0m\u001b[0m_RTLD_NOLOAD\u001b[0m\u001b[1;33m)\u001b[0m\u001b[1;33m\u001b[0m\u001b[1;33m\u001b[0m\u001b[0m\n\u001b[1;32m--> 606\u001b[1;33m         \u001b[0mself\u001b[0m\u001b[1;33m.\u001b[0m\u001b[0mversion\u001b[0m \u001b[1;33m=\u001b[0m \u001b[0mself\u001b[0m\u001b[1;33m.\u001b[0m\u001b[0mget_version\u001b[0m\u001b[1;33m(\u001b[0m\u001b[1;33m)\u001b[0m\u001b[1;33m\u001b[0m\u001b[1;33m\u001b[0m\u001b[0m\n\u001b[0m\u001b[0;32m    607\u001b[0m         \u001b[0mself\u001b[0m\u001b[1;33m.\u001b[0m\u001b[0mnum_threads\u001b[0m \u001b[1;33m=\u001b[0m \u001b[0mself\u001b[0m\u001b[1;33m.\u001b[0m\u001b[0mget_num_threads\u001b[0m\u001b[1;33m(\u001b[0m\u001b[1;33m)\u001b[0m\u001b[1;33m\u001b[0m\u001b[1;33m\u001b[0m\u001b[0m\n\u001b[0;32m    608\u001b[0m         \u001b[0mself\u001b[0m\u001b[1;33m.\u001b[0m\u001b[0m_get_extra_info\u001b[0m\u001b[1;33m(\u001b[0m\u001b[1;33m)\u001b[0m\u001b[1;33m\u001b[0m\u001b[1;33m\u001b[0m\u001b[0m\n",
      "\u001b[1;32m~\\Anaconda3\\lib\\site-packages\\threadpoolctl.py\u001b[0m in \u001b[0;36mget_version\u001b[1;34m(self)\u001b[0m\n\u001b[0;32m    644\u001b[0m                              lambda: None)\n\u001b[0;32m    645\u001b[0m         \u001b[0mget_config\u001b[0m\u001b[1;33m.\u001b[0m\u001b[0mrestype\u001b[0m \u001b[1;33m=\u001b[0m \u001b[0mctypes\u001b[0m\u001b[1;33m.\u001b[0m\u001b[0mc_char_p\u001b[0m\u001b[1;33m\u001b[0m\u001b[1;33m\u001b[0m\u001b[0m\n\u001b[1;32m--> 646\u001b[1;33m         \u001b[0mconfig\u001b[0m \u001b[1;33m=\u001b[0m \u001b[0mget_config\u001b[0m\u001b[1;33m(\u001b[0m\u001b[1;33m)\u001b[0m\u001b[1;33m.\u001b[0m\u001b[0msplit\u001b[0m\u001b[1;33m(\u001b[0m\u001b[1;33m)\u001b[0m\u001b[1;33m\u001b[0m\u001b[1;33m\u001b[0m\u001b[0m\n\u001b[0m\u001b[0;32m    647\u001b[0m         \u001b[1;32mif\u001b[0m \u001b[0mconfig\u001b[0m\u001b[1;33m[\u001b[0m\u001b[1;36m0\u001b[0m\u001b[1;33m]\u001b[0m \u001b[1;33m==\u001b[0m \u001b[1;34mb\"OpenBLAS\"\u001b[0m\u001b[1;33m:\u001b[0m\u001b[1;33m\u001b[0m\u001b[1;33m\u001b[0m\u001b[0m\n\u001b[0;32m    648\u001b[0m             \u001b[1;32mreturn\u001b[0m \u001b[0mconfig\u001b[0m\u001b[1;33m[\u001b[0m\u001b[1;36m1\u001b[0m\u001b[1;33m]\u001b[0m\u001b[1;33m.\u001b[0m\u001b[0mdecode\u001b[0m\u001b[1;33m(\u001b[0m\u001b[1;34m\"utf-8\"\u001b[0m\u001b[1;33m)\u001b[0m\u001b[1;33m\u001b[0m\u001b[1;33m\u001b[0m\u001b[0m\n",
      "\u001b[1;31mAttributeError\u001b[0m: 'NoneType' object has no attribute 'split'"
     ]
    }
   ],
   "source": [
    "from sklearn.cluster import KMeans\n",
    "wcss = []\n",
    "\n",
    "for i in range(1,11):\n",
    "    kmeans = KMeans(n_clusters=i,init='k-means++')\n",
    "    kmeans.fit(x1)\n",
    "    wcss.append(kmeans.inertia_)\n",
    "    \n",
    "plt.grid()\n",
    "plt.plot(range(1,11),wcss,marker=\"8\")\n",
    "plt.xlabel(\"K value\")\n",
    "plt.ylabel(\"wcss\")\n",
    "plt.show()"
   ]
  },
  {
   "cell_type": "code",
   "execution_count": null,
   "id": "8f9988ac",
   "metadata": {
    "execution": {
     "iopub.execute_input": "2023-06-08T17:02:06.948592Z",
     "iopub.status.busy": "2023-06-08T17:02:06.947352Z",
     "iopub.status.idle": "2023-06-08T17:02:06.976637Z",
     "shell.execute_reply": "2023-06-08T17:02:06.975425Z"
    },
    "papermill": {
     "duration": 0.061011,
     "end_time": "2023-06-08T17:02:06.979170",
     "exception": false,
     "start_time": "2023-06-08T17:02:06.918159",
     "status": "completed"
    },
    "tags": []
   },
   "outputs": [],
   "source": [
    "kmeans = KMeans(n_clusters=4)\n",
    "label = kmeans.fit_predict(x1)\n",
    "print(label)"
   ]
  },
  {
   "cell_type": "code",
   "execution_count": null,
   "id": "ee84de3c",
   "metadata": {
    "execution": {
     "iopub.execute_input": "2023-06-08T17:02:07.038634Z",
     "iopub.status.busy": "2023-06-08T17:02:07.038185Z",
     "iopub.status.idle": "2023-06-08T17:02:07.044257Z",
     "shell.execute_reply": "2023-06-08T17:02:07.043422Z"
    },
    "papermill": {
     "duration": 0.038033,
     "end_time": "2023-06-08T17:02:07.046308",
     "exception": false,
     "start_time": "2023-06-08T17:02:07.008275",
     "status": "completed"
    },
    "tags": []
   },
   "outputs": [],
   "source": [
    "print(kmeans.cluster_centers_)"
   ]
  },
  {
   "cell_type": "code",
   "execution_count": null,
   "id": "e685ce1f",
   "metadata": {
    "execution": {
     "iopub.execute_input": "2023-06-08T17:02:07.106237Z",
     "iopub.status.busy": "2023-06-08T17:02:07.105227Z",
     "iopub.status.idle": "2023-06-08T17:02:07.419132Z",
     "shell.execute_reply": "2023-06-08T17:02:07.418182Z"
    },
    "papermill": {
     "duration": 0.346479,
     "end_time": "2023-06-08T17:02:07.421399",
     "exception": false,
     "start_time": "2023-06-08T17:02:07.074920",
     "status": "completed"
    },
    "tags": []
   },
   "outputs": [],
   "source": [
    "plt.grid\n",
    "plt.scatter(x1[:,0],x1[:,1], c=kmeans.labels_ ,  cmap=\"rainbow\")\n",
    "plt.scatter(kmeans.cluster_centers_[:,0] , kmeans.cluster_centers_[:,1], color='black')\n",
    "plt.title(\"Cluster of Customers\")\n",
    "plt.xlabel(\"Age\")\n",
    "plt.ylabel(\"Spending Scores (1-100)\")\n",
    "plt.show()"
   ]
  },
  {
   "cell_type": "markdown",
   "id": "a299009c",
   "metadata": {
    "papermill": {
     "duration": 0.029411,
     "end_time": "2023-06-08T17:02:07.481138",
     "exception": false,
     "start_time": "2023-06-08T17:02:07.451727",
     "status": "completed"
    },
    "tags": []
   },
   "source": [
    "2. Relationship between Annual Income and Spending Scores"
   ]
  },
  {
   "cell_type": "code",
   "execution_count": null,
   "id": "7133564a",
   "metadata": {
    "execution": {
     "iopub.execute_input": "2023-06-08T17:02:07.541428Z",
     "iopub.status.busy": "2023-06-08T17:02:07.540817Z",
     "iopub.status.idle": "2023-06-08T17:02:07.546150Z",
     "shell.execute_reply": "2023-06-08T17:02:07.545375Z"
    },
    "papermill": {
     "duration": 0.038348,
     "end_time": "2023-06-08T17:02:07.548440",
     "exception": false,
     "start_time": "2023-06-08T17:02:07.510092",
     "status": "completed"
    },
    "tags": []
   },
   "outputs": [],
   "source": [
    "x2 = customers.loc[:,[\"Annual Income (k$)\",'Spending Score (1-100)']].values"
   ]
  },
  {
   "cell_type": "code",
   "execution_count": null,
   "id": "bdad3423",
   "metadata": {
    "execution": {
     "iopub.execute_input": "2023-06-08T17:02:07.609696Z",
     "iopub.status.busy": "2023-06-08T17:02:07.609101Z",
     "iopub.status.idle": "2023-06-08T17:02:07.617682Z",
     "shell.execute_reply": "2023-06-08T17:02:07.616857Z"
    },
    "papermill": {
     "duration": 0.041536,
     "end_time": "2023-06-08T17:02:07.619768",
     "exception": false,
     "start_time": "2023-06-08T17:02:07.578232",
     "status": "completed"
    },
    "tags": []
   },
   "outputs": [],
   "source": [
    "x2"
   ]
  },
  {
   "cell_type": "code",
   "execution_count": null,
   "id": "5e442fcd",
   "metadata": {
    "execution": {
     "iopub.execute_input": "2023-06-08T17:02:07.681213Z",
     "iopub.status.busy": "2023-06-08T17:02:07.680583Z",
     "iopub.status.idle": "2023-06-08T17:02:08.135594Z",
     "shell.execute_reply": "2023-06-08T17:02:08.134387Z"
    },
    "papermill": {
     "duration": 0.489223,
     "end_time": "2023-06-08T17:02:08.138399",
     "exception": false,
     "start_time": "2023-06-08T17:02:07.649176",
     "status": "completed"
    },
    "tags": []
   },
   "outputs": [],
   "source": [
    "from sklearn.cluster import KMeans\n",
    "wcss = []\n",
    "\n",
    "for i in range(1,11):\n",
    "    kmeans = KMeans(n_clusters=i,init='k-means++')\n",
    "    kmeans.fit(x2)\n",
    "    wcss.append(kmeans.inertia_)\n",
    "    \n",
    "plt.grid()\n",
    "plt.plot(range(1,11),wcss,marker=\"8\")\n",
    "plt.xlabel(\"K value\")\n",
    "plt.ylabel(\"wcss\")\n",
    "plt.show()"
   ]
  },
  {
   "cell_type": "code",
   "execution_count": null,
   "id": "32486fea",
   "metadata": {
    "execution": {
     "iopub.execute_input": "2023-06-08T17:02:08.202433Z",
     "iopub.status.busy": "2023-06-08T17:02:08.201934Z",
     "iopub.status.idle": "2023-06-08T17:02:08.233518Z",
     "shell.execute_reply": "2023-06-08T17:02:08.232413Z"
    },
    "papermill": {
     "duration": 0.06693,
     "end_time": "2023-06-08T17:02:08.236225",
     "exception": false,
     "start_time": "2023-06-08T17:02:08.169295",
     "status": "completed"
    },
    "tags": []
   },
   "outputs": [],
   "source": [
    "kmeans = KMeans(n_clusters=5)\n",
    "label = kmeans.fit_predict(x2)\n",
    "print(label)"
   ]
  },
  {
   "cell_type": "code",
   "execution_count": null,
   "id": "b71474bc",
   "metadata": {
    "execution": {
     "iopub.execute_input": "2023-06-08T17:02:08.300408Z",
     "iopub.status.busy": "2023-06-08T17:02:08.299998Z",
     "iopub.status.idle": "2023-06-08T17:02:08.305713Z",
     "shell.execute_reply": "2023-06-08T17:02:08.304616Z"
    },
    "papermill": {
     "duration": 0.040449,
     "end_time": "2023-06-08T17:02:08.308398",
     "exception": false,
     "start_time": "2023-06-08T17:02:08.267949",
     "status": "completed"
    },
    "tags": []
   },
   "outputs": [],
   "source": [
    "print(kmeans.cluster_centers_)"
   ]
  },
  {
   "cell_type": "code",
   "execution_count": null,
   "id": "68851da2",
   "metadata": {
    "execution": {
     "iopub.execute_input": "2023-06-08T17:02:08.372270Z",
     "iopub.status.busy": "2023-06-08T17:02:08.371154Z",
     "iopub.status.idle": "2023-06-08T17:02:08.684124Z",
     "shell.execute_reply": "2023-06-08T17:02:08.682698Z"
    },
    "papermill": {
     "duration": 0.347572,
     "end_time": "2023-06-08T17:02:08.686537",
     "exception": false,
     "start_time": "2023-06-08T17:02:08.338965",
     "status": "completed"
    },
    "tags": []
   },
   "outputs": [],
   "source": [
    "plt.grid\n",
    "plt.scatter(x2[:,0],x2[:,1], c=kmeans.labels_ ,  cmap=\"rainbow\")\n",
    "plt.scatter(kmeans.cluster_centers_[:,0] , kmeans.cluster_centers_[:,1], color='black')\n",
    "plt.title(\"Cluster of Customers\")\n",
    "plt.xlabel(\"Annual Income (k$)\")\n",
    "plt.ylabel(\"Spending Scores (1-100)\")\n",
    "plt.show()"
   ]
  },
  {
   "cell_type": "markdown",
   "id": "3e2af93a",
   "metadata": {
    "papermill": {
     "duration": 0.031199,
     "end_time": "2023-06-08T17:02:08.748994",
     "exception": false,
     "start_time": "2023-06-08T17:02:08.717795",
     "status": "completed"
    },
    "tags": []
   },
   "source": [
    "3. Relationship between Gender and Spending Scores"
   ]
  },
  {
   "cell_type": "code",
   "execution_count": null,
   "id": "832b7eae",
   "metadata": {
    "execution": {
     "iopub.execute_input": "2023-06-08T17:02:08.813877Z",
     "iopub.status.busy": "2023-06-08T17:02:08.813208Z",
     "iopub.status.idle": "2023-06-08T17:02:08.820533Z",
     "shell.execute_reply": "2023-06-08T17:02:08.819458Z"
    },
    "papermill": {
     "duration": 0.042666,
     "end_time": "2023-06-08T17:02:08.822830",
     "exception": false,
     "start_time": "2023-06-08T17:02:08.780164",
     "status": "completed"
    },
    "tags": []
   },
   "outputs": [],
   "source": [
    "x3 = customers.loc[:,[\"Gender\",'Spending Score (1-100)']].values"
   ]
  },
  {
   "cell_type": "code",
   "execution_count": null,
   "id": "0514b97c",
   "metadata": {
    "execution": {
     "iopub.execute_input": "2023-06-08T17:02:08.888312Z",
     "iopub.status.busy": "2023-06-08T17:02:08.887617Z",
     "iopub.status.idle": "2023-06-08T17:02:08.897177Z",
     "shell.execute_reply": "2023-06-08T17:02:08.896403Z"
    },
    "papermill": {
     "duration": 0.044471,
     "end_time": "2023-06-08T17:02:08.899266",
     "exception": false,
     "start_time": "2023-06-08T17:02:08.854795",
     "status": "completed"
    },
    "tags": []
   },
   "outputs": [],
   "source": [
    "x3"
   ]
  },
  {
   "cell_type": "code",
   "execution_count": null,
   "id": "60af6910",
   "metadata": {
    "execution": {
     "iopub.execute_input": "2023-06-08T17:02:08.965606Z",
     "iopub.status.busy": "2023-06-08T17:02:08.964824Z",
     "iopub.status.idle": "2023-06-08T17:02:09.663444Z",
     "shell.execute_reply": "2023-06-08T17:02:09.662382Z"
    },
    "papermill": {
     "duration": 0.735181,
     "end_time": "2023-06-08T17:02:09.666037",
     "exception": false,
     "start_time": "2023-06-08T17:02:08.930856",
     "status": "completed"
    },
    "tags": []
   },
   "outputs": [],
   "source": [
    "\n",
    "wcss = []\n",
    "\n",
    "for i in range(1,11):\n",
    "    kmeans = KMeans(n_clusters=i,init='k-means++')\n",
    "    kmeans.fit(x3)\n",
    "    wcss.append(kmeans.inertia_)\n",
    "    \n",
    "plt.grid()\n",
    "plt.plot(range(1,11),wcss,marker=\"8\")\n",
    "plt.xlabel(\"K value\")\n",
    "plt.ylabel(\"wcss\")\n",
    "plt.show()"
   ]
  },
  {
   "cell_type": "code",
   "execution_count": null,
   "id": "e5fa8b7b",
   "metadata": {
    "execution": {
     "iopub.execute_input": "2023-06-08T17:02:09.734510Z",
     "iopub.status.busy": "2023-06-08T17:02:09.733839Z",
     "iopub.status.idle": "2023-06-08T17:02:09.761341Z",
     "shell.execute_reply": "2023-06-08T17:02:09.760100Z"
    },
    "papermill": {
     "duration": 0.064998,
     "end_time": "2023-06-08T17:02:09.764244",
     "exception": false,
     "start_time": "2023-06-08T17:02:09.699246",
     "status": "completed"
    },
    "tags": []
   },
   "outputs": [],
   "source": [
    "kmeans = KMeans(n_clusters=3)\n",
    "label = kmeans.fit_predict(x3)\n",
    "print(label)"
   ]
  },
  {
   "cell_type": "code",
   "execution_count": null,
   "id": "4f4ca4c9",
   "metadata": {
    "execution": {
     "iopub.execute_input": "2023-06-08T17:02:09.831837Z",
     "iopub.status.busy": "2023-06-08T17:02:09.831436Z",
     "iopub.status.idle": "2023-06-08T17:02:09.837473Z",
     "shell.execute_reply": "2023-06-08T17:02:09.836343Z"
    },
    "papermill": {
     "duration": 0.043075,
     "end_time": "2023-06-08T17:02:09.840659",
     "exception": false,
     "start_time": "2023-06-08T17:02:09.797584",
     "status": "completed"
    },
    "tags": []
   },
   "outputs": [],
   "source": [
    "print(kmeans.cluster_centers_)"
   ]
  },
  {
   "cell_type": "code",
   "execution_count": null,
   "id": "f0f0bdc2",
   "metadata": {
    "execution": {
     "iopub.execute_input": "2023-06-08T17:02:09.908576Z",
     "iopub.status.busy": "2023-06-08T17:02:09.907492Z",
     "iopub.status.idle": "2023-06-08T17:02:10.204645Z",
     "shell.execute_reply": "2023-06-08T17:02:10.203744Z"
    },
    "papermill": {
     "duration": 0.333739,
     "end_time": "2023-06-08T17:02:10.207155",
     "exception": false,
     "start_time": "2023-06-08T17:02:09.873416",
     "status": "completed"
    },
    "tags": []
   },
   "outputs": [],
   "source": [
    "plt.grid\n",
    "plt.scatter(x3[:,0],x3[:,1], c=kmeans.labels_ ,  cmap=\"rainbow\")\n",
    "plt.title(\"Cluster of Customers\")\n",
    "plt.xlabel(\"Gender (0-Female,1-Male)\")\n",
    "plt.ylabel(\"Spending Scores (1-100)\")\n",
    "plt.show()"
   ]
  },
  {
   "cell_type": "markdown",
   "id": "20523ca1",
   "metadata": {
    "papermill": {
     "duration": 0.033221,
     "end_time": "2023-06-08T17:02:10.273572",
     "exception": false,
     "start_time": "2023-06-08T17:02:10.240351",
     "status": "completed"
    },
    "tags": []
   },
   "source": [
    "## Plotting a 3D plot of three categories"
   ]
  },
  {
   "cell_type": "code",
   "execution_count": null,
   "id": "8757664b",
   "metadata": {
    "execution": {
     "iopub.execute_input": "2023-06-08T17:02:10.341653Z",
     "iopub.status.busy": "2023-06-08T17:02:10.340677Z",
     "iopub.status.idle": "2023-06-08T17:02:10.345571Z",
     "shell.execute_reply": "2023-06-08T17:02:10.344685Z"
    },
    "papermill": {
     "duration": 0.041439,
     "end_time": "2023-06-08T17:02:10.347915",
     "exception": false,
     "start_time": "2023-06-08T17:02:10.306476",
     "status": "completed"
    },
    "tags": []
   },
   "outputs": [],
   "source": [
    "x4 = customers.iloc[:,1:]"
   ]
  },
  {
   "cell_type": "code",
   "execution_count": null,
   "id": "d09f2b55",
   "metadata": {
    "execution": {
     "iopub.execute_input": "2023-06-08T17:02:10.416491Z",
     "iopub.status.busy": "2023-06-08T17:02:10.415746Z",
     "iopub.status.idle": "2023-06-08T17:02:10.428530Z",
     "shell.execute_reply": "2023-06-08T17:02:10.427362Z"
    },
    "papermill": {
     "duration": 0.049611,
     "end_time": "2023-06-08T17:02:10.430722",
     "exception": false,
     "start_time": "2023-06-08T17:02:10.381111",
     "status": "completed"
    },
    "tags": []
   },
   "outputs": [],
   "source": [
    "x4"
   ]
  },
  {
   "cell_type": "code",
   "execution_count": null,
   "id": "27662ad7",
   "metadata": {
    "execution": {
     "iopub.execute_input": "2023-06-08T17:02:10.508030Z",
     "iopub.status.busy": "2023-06-08T17:02:10.507356Z",
     "iopub.status.idle": "2023-06-08T17:02:10.996595Z",
     "shell.execute_reply": "2023-06-08T17:02:10.995419Z"
    },
    "papermill": {
     "duration": 0.533579,
     "end_time": "2023-06-08T17:02:10.999044",
     "exception": false,
     "start_time": "2023-06-08T17:02:10.465465",
     "status": "completed"
    },
    "tags": []
   },
   "outputs": [],
   "source": [
    "wcss = []\n",
    "\n",
    "for i in range(1,11):\n",
    "    kmeans = KMeans(n_clusters=i,init='k-means++')\n",
    "    kmeans.fit(x4)\n",
    "    wcss.append(kmeans.inertia_)\n",
    "    \n",
    "plt.grid()\n",
    "plt.plot(range(1,11),wcss,marker=\"8\")\n",
    "plt.xlabel(\"K value\")\n",
    "plt.ylabel(\"wcss\")\n",
    "plt.show()"
   ]
  },
  {
   "cell_type": "code",
   "execution_count": null,
   "id": "8b6a8229",
   "metadata": {
    "execution": {
     "iopub.execute_input": "2023-06-08T17:02:11.069569Z",
     "iopub.status.busy": "2023-06-08T17:02:11.068783Z",
     "iopub.status.idle": "2023-06-08T17:02:11.102971Z",
     "shell.execute_reply": "2023-06-08T17:02:11.101973Z"
    },
    "papermill": {
     "duration": 0.072814,
     "end_time": "2023-06-08T17:02:11.106089",
     "exception": false,
     "start_time": "2023-06-08T17:02:11.033275",
     "status": "completed"
    },
    "tags": []
   },
   "outputs": [],
   "source": [
    "kmeans = KMeans(n_clusters=6)\n",
    "label = kmeans.fit_predict(x4)\n",
    "print(label)"
   ]
  },
  {
   "cell_type": "code",
   "execution_count": null,
   "id": "29acaea6",
   "metadata": {
    "execution": {
     "iopub.execute_input": "2023-06-08T17:02:11.179577Z",
     "iopub.status.busy": "2023-06-08T17:02:11.179160Z",
     "iopub.status.idle": "2023-06-08T17:02:11.185665Z",
     "shell.execute_reply": "2023-06-08T17:02:11.184534Z"
    },
    "papermill": {
     "duration": 0.046872,
     "end_time": "2023-06-08T17:02:11.188123",
     "exception": false,
     "start_time": "2023-06-08T17:02:11.141251",
     "status": "completed"
    },
    "tags": []
   },
   "outputs": [],
   "source": [
    "print(kmeans.cluster_centers_)"
   ]
  },
  {
   "cell_type": "code",
   "execution_count": null,
   "id": "fb85f9f0",
   "metadata": {
    "execution": {
     "iopub.execute_input": "2023-06-08T17:02:11.260094Z",
     "iopub.status.busy": "2023-06-08T17:02:11.259667Z",
     "iopub.status.idle": "2023-06-08T17:02:11.265697Z",
     "shell.execute_reply": "2023-06-08T17:02:11.264429Z"
    },
    "papermill": {
     "duration": 0.045536,
     "end_time": "2023-06-08T17:02:11.268090",
     "exception": false,
     "start_time": "2023-06-08T17:02:11.222554",
     "status": "completed"
    },
    "tags": []
   },
   "outputs": [],
   "source": [
    "customers['label'] = label"
   ]
  },
  {
   "cell_type": "code",
   "execution_count": null,
   "id": "ab239f18",
   "metadata": {
    "execution": {
     "iopub.execute_input": "2023-06-08T17:02:11.339543Z",
     "iopub.status.busy": "2023-06-08T17:02:11.338556Z",
     "iopub.status.idle": "2023-06-08T17:02:11.352843Z",
     "shell.execute_reply": "2023-06-08T17:02:11.351691Z"
    },
    "papermill": {
     "duration": 0.053052,
     "end_time": "2023-06-08T17:02:11.355544",
     "exception": false,
     "start_time": "2023-06-08T17:02:11.302492",
     "status": "completed"
    },
    "tags": []
   },
   "outputs": [],
   "source": [
    "customers"
   ]
  },
  {
   "cell_type": "code",
   "execution_count": null,
   "id": "5448563f",
   "metadata": {
    "execution": {
     "iopub.execute_input": "2023-06-08T17:02:11.427675Z",
     "iopub.status.busy": "2023-06-08T17:02:11.427243Z",
     "iopub.status.idle": "2023-06-08T17:02:11.837505Z",
     "shell.execute_reply": "2023-06-08T17:02:11.836275Z"
    },
    "papermill": {
     "duration": 0.449587,
     "end_time": "2023-06-08T17:02:11.840743",
     "exception": false,
     "start_time": "2023-06-08T17:02:11.391156",
     "status": "completed"
    },
    "tags": []
   },
   "outputs": [],
   "source": [
    "\n",
    "from mpl_toolkits.mplot3d import Axes3D\n",
    "\n",
    "fig = plt.figure(figsize=(20,10))\n",
    "ax = fig.add_subplot(111, projection=\"3d\")\n",
    "ax.scatter(customers.Age[customers.label == 0], customers['Annual Income (k$)'][customers.label == 0],customers['Spending Score (1-100)'][customers.label == 0],c='blue',s=60)\n",
    "ax.scatter(customers.Age[customers.label == 1], customers['Annual Income (k$)'][customers.label == 1],customers['Spending Score (1-100)'][customers.label == 1],c='red',s=60)\n",
    "ax. scatter(customers.Age[customers.label == 2], customers['Annual Income (k$)'][customers.label == 2],customers['Spending Score (1-100)'][customers.label == 2],c='green',s=60)\n",
    "ax.scatter(customers.Age[customers.label == 3], customers['Annual Income (k$)'][customers.label == 3],customers['Spending Score (1-100)'][customers.label == 3],c='orange',s=60)\n",
    "ax.scatter(customers.Age[customers.label == 4], customers['Annual Income (k$)'][customers.label == 4],customers['Spending Score (1-100)'][customers.label == 4],c='purple',s=60)\n",
    "ax.scatter(customers.Age[customers.label == 5], customers['Annual Income (k$)'][customers.label == 5],customers['Spending Score (1-100)'][customers.label == 5],c='pink',s=60)\n",
    "ax.view_init(30, 190)\n",
    "                     \n",
    "plt.xlabel(\"Age\")\n",
    "plt.ylabel(\"Annual Income (k$)\") \n",
    "ax.set_zlabel(\"Spending Scores (1-00)\")\n",
    "plt.show()"
   ]
  },
  {
   "cell_type": "markdown",
   "id": "cda4196a",
   "metadata": {
    "papermill": {
     "duration": 0.036865,
     "end_time": "2023-06-08T17:02:11.915022",
     "exception": false,
     "start_time": "2023-06-08T17:02:11.878157",
     "status": "completed"
    },
    "tags": []
   },
   "source": [
    "## Made by Ronit Murpani"
   ]
  }
 ],
 "metadata": {
  "kernelspec": {
   "display_name": "Python 3",
   "language": "python",
   "name": "python3"
  },
  "language_info": {
   "codemirror_mode": {
    "name": "ipython",
    "version": 3
   },
   "file_extension": ".py",
   "mimetype": "text/x-python",
   "name": "python",
   "nbconvert_exporter": "python",
   "pygments_lexer": "ipython3",
   "version": "3.8.8"
  },
  "papermill": {
   "default_parameters": {},
   "duration": 26.8709,
   "end_time": "2023-06-08T17:02:13.075474",
   "environment_variables": {},
   "exception": null,
   "input_path": "__notebook__.ipynb",
   "output_path": "__notebook__.ipynb",
   "parameters": {},
   "start_time": "2023-06-08T17:01:46.204574",
   "version": "2.4.0"
  }
 },
 "nbformat": 4,
 "nbformat_minor": 5
}
